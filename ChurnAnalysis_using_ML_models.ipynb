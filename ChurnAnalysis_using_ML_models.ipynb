{
  "nbformat": 4,
  "nbformat_minor": 0,
  "metadata": {
    "kernelspec": {
      "display_name": "Python 3",
      "language": "python",
      "name": "python3"
    },
    "language_info": {
      "codemirror_mode": {
        "name": "ipython",
        "version": 3
      },
      "file_extension": ".py",
      "mimetype": "text/x-python",
      "name": "python",
      "nbconvert_exporter": "python",
      "pygments_lexer": "ipython3",
      "version": "3.7.3"
    },
    "colab": {
      "name": "ChurnAnalysis using ML models.ipynb",
      "provenance": [],
      "include_colab_link": true
    }
  },
  "cells": [
    {
      "cell_type": "markdown",
      "metadata": {
        "id": "view-in-github",
        "colab_type": "text"
      },
      "source": [
        "<a href=\"https://colab.research.google.com/github/Anichan55/Churn_Analysis/blob/main/ChurnAnalysis_using_ML_models.ipynb\" target=\"_parent\"><img src=\"https://colab.research.google.com/assets/colab-badge.svg\" alt=\"Open In Colab\"/></a>"
      ]
    },
    {
      "cell_type": "code",
      "metadata": {
        "id": "XImzhMLWr1H0"
      },
      "source": [
        "import pandas as pd\n",
        "import numpy as np\n",
        "import seaborn as sns\n",
        "import matplotlib.pyplot as plt\n",
        "import warnings\n",
        "warnings.filterwarnings('ignore')\n",
        "\n",
        "from sklearn.preprocessing import LabelEncoder\n",
        "from sklearn.model_selection import train_test_split\n",
        "from sklearn.linear_model import LogisticRegression\n",
        "from sklearn.naive_bayes import GaussianNB\n",
        "from sklearn.tree import DecisionTreeClassifier\n",
        "from sklearn.ensemble import RandomForestClassifier\n",
        "from sklearn.neighbors import KNeighborsClassifier\n",
        "from sklearn.svm import SVC\n",
        "#import xgboost as xgb\n",
        "\n",
        "from sklearn import metrics\n",
        "from sklearn.metrics import accuracy_score, auc, confusion_matrix, roc_auc_score, roc_curve, recall_score"
      ],
      "execution_count": null,
      "outputs": []
    },
    {
      "cell_type": "code",
      "metadata": {
        "id": "Hh224Vcur1H3"
      },
      "source": [
        "df_test=pd.read_csv(\"churnTest.csv\")\n",
        "df_train=pd.read_csv(\"churnTrain.csv\")"
      ],
      "execution_count": null,
      "outputs": []
    },
    {
      "cell_type": "code",
      "metadata": {
        "id": "Q_ivvRoYr1H4",
        "outputId": "19981a14-bdd6-4369-fe76-e4606b4938b9"
      },
      "source": [
        "df_train.fillna(0)\n",
        "df_test.fillna(0)\n",
        "df_train.shape\n",
        "df_test.shape\n"
      ],
      "execution_count": null,
      "outputs": [
        {
          "data": {
            "text/plain": [
              "(425, 20)"
            ]
          },
          "execution_count": 3,
          "metadata": {},
          "output_type": "execute_result"
        }
      ]
    },
    {
      "cell_type": "code",
      "metadata": {
        "id": "h7zJ16Dwr1H5",
        "outputId": "b132e2f8-b94b-4c28-a18b-16442114fe4f"
      },
      "source": [
        "X_train=df_train.drop(labels=['Churn'],axis=1)\n",
        "X_test=df_test\n",
        "Y_train=df_train['Churn']\n",
        "X_train.head()"
      ],
      "execution_count": null,
      "outputs": [
        {
          "data": {
            "text/html": [
              "<div>\n",
              "<style scoped>\n",
              "    .dataframe tbody tr th:only-of-type {\n",
              "        vertical-align: middle;\n",
              "    }\n",
              "\n",
              "    .dataframe tbody tr th {\n",
              "        vertical-align: top;\n",
              "    }\n",
              "\n",
              "    .dataframe thead th {\n",
              "        text-align: right;\n",
              "    }\n",
              "</style>\n",
              "<table border=\"1\" class=\"dataframe\">\n",
              "  <thead>\n",
              "    <tr style=\"text-align: right;\">\n",
              "      <th></th>\n",
              "      <th>State</th>\n",
              "      <th>Account_Length</th>\n",
              "      <th>Area_Code</th>\n",
              "      <th>Phone_No</th>\n",
              "      <th>International_Plan</th>\n",
              "      <th>Voice_Mail_Plan</th>\n",
              "      <th>No_Vmail_Messages</th>\n",
              "      <th>Total_Day_minutes</th>\n",
              "      <th>Total_Day_Calls</th>\n",
              "      <th>Total_Day_charge</th>\n",
              "      <th>Total_Eve_Minutes</th>\n",
              "      <th>Total_Eve_Calls</th>\n",
              "      <th>Total_Eve_Charge</th>\n",
              "      <th>Total_Night_Minutes</th>\n",
              "      <th>Total_Night_Calls</th>\n",
              "      <th>Total_Night_Charge</th>\n",
              "      <th>Total_Intl_Minutes</th>\n",
              "      <th>Total_Intl_Calls</th>\n",
              "      <th>Total_Intl_Charge</th>\n",
              "      <th>No_CS_Calls</th>\n",
              "    </tr>\n",
              "  </thead>\n",
              "  <tbody>\n",
              "    <tr>\n",
              "      <th>0</th>\n",
              "      <td>KS</td>\n",
              "      <td>128</td>\n",
              "      <td>415</td>\n",
              "      <td>3824657</td>\n",
              "      <td>no</td>\n",
              "      <td>yes</td>\n",
              "      <td>25</td>\n",
              "      <td>265.1</td>\n",
              "      <td>110</td>\n",
              "      <td>45.07</td>\n",
              "      <td>197.4</td>\n",
              "      <td>99</td>\n",
              "      <td>16.78</td>\n",
              "      <td>244.7</td>\n",
              "      <td>91</td>\n",
              "      <td>11.01</td>\n",
              "      <td>10.0</td>\n",
              "      <td>3</td>\n",
              "      <td>2.70</td>\n",
              "      <td>1</td>\n",
              "    </tr>\n",
              "    <tr>\n",
              "      <th>1</th>\n",
              "      <td>OH</td>\n",
              "      <td>107</td>\n",
              "      <td>415</td>\n",
              "      <td>3717191</td>\n",
              "      <td>no</td>\n",
              "      <td>yes</td>\n",
              "      <td>26</td>\n",
              "      <td>161.6</td>\n",
              "      <td>123</td>\n",
              "      <td>27.47</td>\n",
              "      <td>195.5</td>\n",
              "      <td>103</td>\n",
              "      <td>16.62</td>\n",
              "      <td>254.4</td>\n",
              "      <td>103</td>\n",
              "      <td>11.45</td>\n",
              "      <td>13.7</td>\n",
              "      <td>3</td>\n",
              "      <td>3.70</td>\n",
              "      <td>1</td>\n",
              "    </tr>\n",
              "    <tr>\n",
              "      <th>2</th>\n",
              "      <td>NJ</td>\n",
              "      <td>137</td>\n",
              "      <td>415</td>\n",
              "      <td>3581921</td>\n",
              "      <td>no</td>\n",
              "      <td>no</td>\n",
              "      <td>0</td>\n",
              "      <td>243.4</td>\n",
              "      <td>114</td>\n",
              "      <td>41.38</td>\n",
              "      <td>121.2</td>\n",
              "      <td>110</td>\n",
              "      <td>10.30</td>\n",
              "      <td>162.6</td>\n",
              "      <td>104</td>\n",
              "      <td>7.32</td>\n",
              "      <td>12.2</td>\n",
              "      <td>5</td>\n",
              "      <td>3.29</td>\n",
              "      <td>0</td>\n",
              "    </tr>\n",
              "    <tr>\n",
              "      <th>3</th>\n",
              "      <td>OH</td>\n",
              "      <td>84</td>\n",
              "      <td>408</td>\n",
              "      <td>3759999</td>\n",
              "      <td>yes</td>\n",
              "      <td>no</td>\n",
              "      <td>0</td>\n",
              "      <td>299.4</td>\n",
              "      <td>71</td>\n",
              "      <td>50.90</td>\n",
              "      <td>61.9</td>\n",
              "      <td>88</td>\n",
              "      <td>5.26</td>\n",
              "      <td>196.9</td>\n",
              "      <td>89</td>\n",
              "      <td>8.86</td>\n",
              "      <td>6.6</td>\n",
              "      <td>7</td>\n",
              "      <td>1.78</td>\n",
              "      <td>2</td>\n",
              "    </tr>\n",
              "    <tr>\n",
              "      <th>4</th>\n",
              "      <td>OK</td>\n",
              "      <td>75</td>\n",
              "      <td>415</td>\n",
              "      <td>3306626</td>\n",
              "      <td>yes</td>\n",
              "      <td>no</td>\n",
              "      <td>0</td>\n",
              "      <td>166.7</td>\n",
              "      <td>113</td>\n",
              "      <td>28.34</td>\n",
              "      <td>148.3</td>\n",
              "      <td>122</td>\n",
              "      <td>12.61</td>\n",
              "      <td>186.9</td>\n",
              "      <td>121</td>\n",
              "      <td>8.41</td>\n",
              "      <td>10.1</td>\n",
              "      <td>3</td>\n",
              "      <td>2.73</td>\n",
              "      <td>3</td>\n",
              "    </tr>\n",
              "  </tbody>\n",
              "</table>\n",
              "</div>"
            ],
            "text/plain": [
              "  State  Account_Length  Area_Code  Phone_No International_Plan  \\\n",
              "0    KS             128        415   3824657                 no   \n",
              "1    OH             107        415   3717191                 no   \n",
              "2    NJ             137        415   3581921                 no   \n",
              "3    OH              84        408   3759999                yes   \n",
              "4    OK              75        415   3306626                yes   \n",
              "\n",
              "  Voice_Mail_Plan  No_Vmail_Messages  Total_Day_minutes  Total_Day_Calls  \\\n",
              "0             yes                 25              265.1              110   \n",
              "1             yes                 26              161.6              123   \n",
              "2              no                  0              243.4              114   \n",
              "3              no                  0              299.4               71   \n",
              "4              no                  0              166.7              113   \n",
              "\n",
              "   Total_Day_charge  Total_Eve_Minutes  Total_Eve_Calls  Total_Eve_Charge  \\\n",
              "0             45.07              197.4               99             16.78   \n",
              "1             27.47              195.5              103             16.62   \n",
              "2             41.38              121.2              110             10.30   \n",
              "3             50.90               61.9               88              5.26   \n",
              "4             28.34              148.3              122             12.61   \n",
              "\n",
              "   Total_Night_Minutes  Total_Night_Calls  Total_Night_Charge  \\\n",
              "0                244.7                 91               11.01   \n",
              "1                254.4                103               11.45   \n",
              "2                162.6                104                7.32   \n",
              "3                196.9                 89                8.86   \n",
              "4                186.9                121                8.41   \n",
              "\n",
              "   Total_Intl_Minutes  Total_Intl_Calls  Total_Intl_Charge  No_CS_Calls  \n",
              "0                10.0                 3               2.70            1  \n",
              "1                13.7                 3               3.70            1  \n",
              "2                12.2                 5               3.29            0  \n",
              "3                 6.6                 7               1.78            2  \n",
              "4                10.1                 3               2.73            3  "
            ]
          },
          "execution_count": 4,
          "metadata": {},
          "output_type": "execute_result"
        }
      ]
    },
    {
      "cell_type": "code",
      "metadata": {
        "id": "7KugxtRir1H5"
      },
      "source": [
        "X_train['International_Plan'] = X_train['International_Plan'].replace((' yes', ' no'), (True, False)).astype(bool)\n",
        "X_train['Voice_Mail_Plan'] = X_train['Voice_Mail_Plan'].replace((' yes', ' no'), (True, False)).astype(bool)\n",
        "X_train['Premium'] = (X_train['International_Plan'] & X_train['Voice_Mail_Plan']).astype(bool)"
      ],
      "execution_count": null,
      "outputs": []
    },
    {
      "cell_type": "code",
      "metadata": {
        "id": "Ifj9RetYr1H6"
      },
      "source": [
        "X_test['International_Plan'] = X_test['International_Plan'].replace((' yes', ' no'), (True, False)).astype(bool)\n",
        "X_test['Voice_Mail_Plan'] = X_test['Voice_Mail_Plan'].replace((' yes', ' no'), (True, False)).astype(bool)\n",
        "X_test['Premium'] = (X_test['International_Plan'] & X_train['Voice_Mail_Plan']).astype(bool)"
      ],
      "execution_count": null,
      "outputs": []
    },
    {
      "cell_type": "code",
      "metadata": {
        "id": "kLFvH-rjr1H6",
        "outputId": "b9b3f4ce-de3b-4a3e-e61a-02df0fca9bf2"
      },
      "source": [
        "X_test.isnull().sum()"
      ],
      "execution_count": null,
      "outputs": [
        {
          "data": {
            "text/plain": [
              "State                   0\n",
              "Account_Length          1\n",
              "Area_Code               1\n",
              "Phone_No                0\n",
              "International_Plan      0\n",
              "Voice_Mail_Plan         0\n",
              "No_Vmail_Messages       0\n",
              "Total_Day_minutes       7\n",
              "Total_Day_Calls         4\n",
              "Total_Day_charge       11\n",
              "Total_Eve_Minutes      11\n",
              "Total_Eve_Calls         4\n",
              "Total_Eve_Charge        5\n",
              "Total_Night_Minutes    11\n",
              "Total_Night_Calls       6\n",
              "Total_Night_Charge      4\n",
              "Total_Intl_Minutes      3\n",
              "Total_Intl_Calls        5\n",
              "Total_Intl_Charge       0\n",
              "No_CS_Calls             0\n",
              "Premium                 0\n",
              "dtype: int64"
            ]
          },
          "execution_count": 7,
          "metadata": {},
          "output_type": "execute_result"
        }
      ]
    },
    {
      "cell_type": "code",
      "metadata": {
        "id": "6_f92R0br1H7"
      },
      "source": [
        "X_test.loc[X_test['Total_Day_minutes'].isnull()]=X_test.loc[X_test['Total_Day_minutes'].isnull()].fillna(0)\n",
        "X_test.loc[X_test['Total_Eve_Minutes'].isnull()]=X_test.loc[X_test['Total_Eve_Minutes'].isnull()].fillna(0)\n",
        "X_test.loc[X_test['Total_Day_Calls'].isnull()]=X_test.loc[X_test['Total_Day_Calls'].isnull()].fillna(0)\n",
        "X_test.loc[X_test['Total_Day_charge'].isnull()]=X_test.loc[X_test['Total_Day_charge'].isnull()].fillna(0)\n",
        "X_test.loc[X_test['Total_Eve_Calls'].isnull()]=X_test.loc[X_test['Total_Eve_Calls'].isnull()].fillna(0)\n",
        "X_test.loc[X_test['Total_Eve_Charge'].isnull()]=X_test.loc[X_test['Total_Eve_Charge'].isnull()].fillna(0)\n",
        "X_test.loc[X_test['Total_Night_Minutes'].isnull()]=X_test.loc[X_test['Total_Night_Minutes'].isnull()].fillna(0)\n",
        "X_test.loc[X_test['Total_Night_Calls'].isnull()]=X_test.loc[X_test['Total_Night_Calls'].isnull()].fillna(0)\n",
        "X_test.loc[X_test['Total_Night_Charge'].isnull()]=X_test.loc[X_test['Total_Night_Charge'].isnull()].fillna(0)\n",
        "X_test.loc[X_test['Total_Intl_Minutes'].isnull()]=X_test.loc[X_test['Total_Intl_Minutes'].isnull()].fillna(0)\n",
        "X_test.loc[X_test['Total_Intl_Calls'].isnull()]=X_test.loc[X_test['Total_Intl_Calls'].isnull()].fillna(0)\n"
      ],
      "execution_count": null,
      "outputs": []
    },
    {
      "cell_type": "code",
      "metadata": {
        "id": "wxiGWkvZr1H7",
        "outputId": "cb8727cb-6bb5-4341-bb65-c51a9ccc1f65"
      },
      "source": [
        "X_test.shape"
      ],
      "execution_count": null,
      "outputs": [
        {
          "data": {
            "text/plain": [
              "(425, 21)"
            ]
          },
          "execution_count": 9,
          "metadata": {},
          "output_type": "execute_result"
        }
      ]
    },
    {
      "cell_type": "code",
      "metadata": {
        "id": "NsioIDJbr1H8",
        "outputId": "8eec9723-ba55-4a76-8de0-03624da4536b"
      },
      "source": [
        "X_train.head(3)"
      ],
      "execution_count": null,
      "outputs": [
        {
          "data": {
            "text/html": [
              "<div>\n",
              "<style scoped>\n",
              "    .dataframe tbody tr th:only-of-type {\n",
              "        vertical-align: middle;\n",
              "    }\n",
              "\n",
              "    .dataframe tbody tr th {\n",
              "        vertical-align: top;\n",
              "    }\n",
              "\n",
              "    .dataframe thead th {\n",
              "        text-align: right;\n",
              "    }\n",
              "</style>\n",
              "<table border=\"1\" class=\"dataframe\">\n",
              "  <thead>\n",
              "    <tr style=\"text-align: right;\">\n",
              "      <th></th>\n",
              "      <th>State</th>\n",
              "      <th>Account_Length</th>\n",
              "      <th>Area_Code</th>\n",
              "      <th>Phone_No</th>\n",
              "      <th>International_Plan</th>\n",
              "      <th>Voice_Mail_Plan</th>\n",
              "      <th>No_Vmail_Messages</th>\n",
              "      <th>Total_Day_minutes</th>\n",
              "      <th>Total_Day_Calls</th>\n",
              "      <th>Total_Day_charge</th>\n",
              "      <th>...</th>\n",
              "      <th>Total_Eve_Calls</th>\n",
              "      <th>Total_Eve_Charge</th>\n",
              "      <th>Total_Night_Minutes</th>\n",
              "      <th>Total_Night_Calls</th>\n",
              "      <th>Total_Night_Charge</th>\n",
              "      <th>Total_Intl_Minutes</th>\n",
              "      <th>Total_Intl_Calls</th>\n",
              "      <th>Total_Intl_Charge</th>\n",
              "      <th>No_CS_Calls</th>\n",
              "      <th>Premium</th>\n",
              "    </tr>\n",
              "  </thead>\n",
              "  <tbody>\n",
              "    <tr>\n",
              "      <th>0</th>\n",
              "      <td>KS</td>\n",
              "      <td>128</td>\n",
              "      <td>415</td>\n",
              "      <td>3824657</td>\n",
              "      <td>False</td>\n",
              "      <td>True</td>\n",
              "      <td>25</td>\n",
              "      <td>265.1</td>\n",
              "      <td>110</td>\n",
              "      <td>45.07</td>\n",
              "      <td>...</td>\n",
              "      <td>99</td>\n",
              "      <td>16.78</td>\n",
              "      <td>244.7</td>\n",
              "      <td>91</td>\n",
              "      <td>11.01</td>\n",
              "      <td>10.0</td>\n",
              "      <td>3</td>\n",
              "      <td>2.70</td>\n",
              "      <td>1</td>\n",
              "      <td>False</td>\n",
              "    </tr>\n",
              "    <tr>\n",
              "      <th>1</th>\n",
              "      <td>OH</td>\n",
              "      <td>107</td>\n",
              "      <td>415</td>\n",
              "      <td>3717191</td>\n",
              "      <td>False</td>\n",
              "      <td>True</td>\n",
              "      <td>26</td>\n",
              "      <td>161.6</td>\n",
              "      <td>123</td>\n",
              "      <td>27.47</td>\n",
              "      <td>...</td>\n",
              "      <td>103</td>\n",
              "      <td>16.62</td>\n",
              "      <td>254.4</td>\n",
              "      <td>103</td>\n",
              "      <td>11.45</td>\n",
              "      <td>13.7</td>\n",
              "      <td>3</td>\n",
              "      <td>3.70</td>\n",
              "      <td>1</td>\n",
              "      <td>False</td>\n",
              "    </tr>\n",
              "    <tr>\n",
              "      <th>2</th>\n",
              "      <td>NJ</td>\n",
              "      <td>137</td>\n",
              "      <td>415</td>\n",
              "      <td>3581921</td>\n",
              "      <td>False</td>\n",
              "      <td>False</td>\n",
              "      <td>0</td>\n",
              "      <td>243.4</td>\n",
              "      <td>114</td>\n",
              "      <td>41.38</td>\n",
              "      <td>...</td>\n",
              "      <td>110</td>\n",
              "      <td>10.30</td>\n",
              "      <td>162.6</td>\n",
              "      <td>104</td>\n",
              "      <td>7.32</td>\n",
              "      <td>12.2</td>\n",
              "      <td>5</td>\n",
              "      <td>3.29</td>\n",
              "      <td>0</td>\n",
              "      <td>False</td>\n",
              "    </tr>\n",
              "  </tbody>\n",
              "</table>\n",
              "<p>3 rows × 21 columns</p>\n",
              "</div>"
            ],
            "text/plain": [
              "  State  Account_Length  Area_Code  Phone_No  International_Plan  \\\n",
              "0    KS             128        415   3824657               False   \n",
              "1    OH             107        415   3717191               False   \n",
              "2    NJ             137        415   3581921               False   \n",
              "\n",
              "   Voice_Mail_Plan  No_Vmail_Messages  Total_Day_minutes  Total_Day_Calls  \\\n",
              "0             True                 25              265.1              110   \n",
              "1             True                 26              161.6              123   \n",
              "2            False                  0              243.4              114   \n",
              "\n",
              "   Total_Day_charge  ...  Total_Eve_Calls  Total_Eve_Charge  \\\n",
              "0             45.07  ...               99             16.78   \n",
              "1             27.47  ...              103             16.62   \n",
              "2             41.38  ...              110             10.30   \n",
              "\n",
              "   Total_Night_Minutes  Total_Night_Calls  Total_Night_Charge  \\\n",
              "0                244.7                 91               11.01   \n",
              "1                254.4                103               11.45   \n",
              "2                162.6                104                7.32   \n",
              "\n",
              "   Total_Intl_Minutes  Total_Intl_Calls  Total_Intl_Charge  No_CS_Calls  \\\n",
              "0                10.0                 3               2.70            1   \n",
              "1                13.7                 3               3.70            1   \n",
              "2                12.2                 5               3.29            0   \n",
              "\n",
              "   Premium  \n",
              "0    False  \n",
              "1    False  \n",
              "2    False  \n",
              "\n",
              "[3 rows x 21 columns]"
            ]
          },
          "execution_count": 10,
          "metadata": {},
          "output_type": "execute_result"
        }
      ]
    },
    {
      "cell_type": "code",
      "metadata": {
        "id": "rmKkcQAHr1H9"
      },
      "source": [
        "X_training_set=X_train.drop(['State','Account_Length','Area_Code','Phone_No'], axis = 1)\n",
        "X_test_set=X_test.drop(['State','Account_Length','Area_Code','Phone_No'], axis = 1)\n"
      ],
      "execution_count": null,
      "outputs": []
    },
    {
      "cell_type": "markdown",
      "metadata": {
        "id": "E7rVKKcJr1H9"
      },
      "source": [
        "LOGISTIC REGRESSION"
      ]
    },
    {
      "cell_type": "code",
      "metadata": {
        "id": "qZJWtfABr1H-",
        "outputId": "a2660507-ca06-4636-929f-40203f1f3f28"
      },
      "source": [
        "#fit the model on train data \n",
        "log_reg = LogisticRegression().fit(X_training_set, Y_train)\n",
        "\n",
        "#predict on train \n",
        "train_preds = log_reg.predict(X_training_set)\n",
        "#accuracy on train\n",
        "print(\"Model accuracy on train is: \", accuracy_score(Y_train, train_preds))\n"
      ],
      "execution_count": null,
      "outputs": [
        {
          "name": "stdout",
          "output_type": "stream",
          "text": [
            "Model accuracy on train is:  0.8610861086108611\n"
          ]
        }
      ]
    },
    {
      "cell_type": "code",
      "metadata": {
        "id": "BaQfeB-tr1H-",
        "outputId": "cc9fd63d-43be-4bfb-8c39-7551277dde92"
      },
      "source": [
        "train_preds"
      ],
      "execution_count": null,
      "outputs": [
        {
          "data": {
            "text/plain": [
              "array([False, False, False, ..., False, False, False])"
            ]
          },
          "execution_count": 13,
          "metadata": {},
          "output_type": "execute_result"
        }
      ]
    },
    {
      "cell_type": "code",
      "metadata": {
        "id": "EFaQiBp7r1H_"
      },
      "source": [
        "test_preds = log_reg.predict(X_test_set)\n"
      ],
      "execution_count": null,
      "outputs": []
    },
    {
      "cell_type": "code",
      "metadata": {
        "id": "pozs1h5Kr1H_"
      },
      "source": [
        "prediction=X_test\n"
      ],
      "execution_count": null,
      "outputs": []
    },
    {
      "cell_type": "code",
      "metadata": {
        "id": "i8VBW4NSr1H_",
        "outputId": "ad59bcbd-7ca3-4bd9-f7a0-f3e43e8b55de"
      },
      "source": [
        "prediction['Cust_Sub_Cancelation_Chances']=test_preds\n",
        "print(\"Prediction Count:\\n\",prediction['Cust_Sub_Cancelation_Chances'].value_counts())\n",
        "print(\"\\nShape: \",prediction.shape)"
      ],
      "execution_count": null,
      "outputs": [
        {
          "name": "stdout",
          "output_type": "stream",
          "text": [
            "Prediction Count:\n",
            " False    408\n",
            "True      17\n",
            "Name: Cust_Sub_Cancelation_Chances, dtype: int64\n",
            "\n",
            "Shape:  (425, 22)\n"
          ]
        }
      ]
    },
    {
      "cell_type": "code",
      "metadata": {
        "id": "ucAG67N5r1H_"
      },
      "source": [
        "prediction.to_csv('LogisticRegression.csv')"
      ],
      "execution_count": null,
      "outputs": []
    },
    {
      "cell_type": "markdown",
      "metadata": {
        "id": "WUr38z4Qr1IA"
      },
      "source": [
        "Naive Baye's"
      ]
    },
    {
      "cell_type": "code",
      "metadata": {
        "id": "CtB4Jcsfr1IA",
        "outputId": "ed4648cf-f996-4fb4-a7c1-57ae98a5eb4f"
      },
      "source": [
        "NB=GaussianNB()\n",
        "NB.fit(X_training_set, Y_train)\n",
        "\n",
        "#predict on train \n",
        "train_preds2 = NB.predict(X_training_set)\n",
        "#accuracy on train\n",
        "print(\"Model accuracy on train is: \", accuracy_score(Y_train, train_preds2))\n",
        "\n",
        "#predict on test\n",
        "test_preds2 = NB.predict(X_test_set)"
      ],
      "execution_count": null,
      "outputs": [
        {
          "name": "stdout",
          "output_type": "stream",
          "text": [
            "Model accuracy on train is:  0.8574857485748575\n"
          ]
        }
      ]
    },
    {
      "cell_type": "markdown",
      "metadata": {
        "id": "wypa0YuSr1IA"
      },
      "source": [
        "Decison Tree Classifier"
      ]
    },
    {
      "cell_type": "code",
      "metadata": {
        "id": "6p1unF-Hr1IA",
        "outputId": "ab6e079f-8196-4d45-d398-63d6603f21a0"
      },
      "source": [
        "#fit the model on train data \n",
        "DT = DecisionTreeClassifier().fit(X_training_set, Y_train)\n",
        "\n",
        "#predict on train \n",
        "train_preds3 = DT.predict(X_training_set)\n",
        "#accuracy on train\n",
        "print(\"Model accuracy on train is: \", accuracy_score(Y_train, train_preds3))\n",
        "\n",
        "#predict on test\n",
        "test_preds3 = DT.predict(X_test_set)"
      ],
      "execution_count": null,
      "outputs": [
        {
          "name": "stdout",
          "output_type": "stream",
          "text": [
            "Model accuracy on train is:  1.0\n"
          ]
        }
      ]
    },
    {
      "cell_type": "markdown",
      "metadata": {
        "id": "BxXZv7Ozr1IB"
      },
      "source": [
        "Random Forest Classifier"
      ]
    },
    {
      "cell_type": "code",
      "metadata": {
        "id": "dvSRwhX0r1IB",
        "outputId": "fc73b945-a862-46d9-e5f7-28dfae56d97a"
      },
      "source": [
        "#fit the model on train data \n",
        "RF=RandomForestClassifier().fit(X_training_set, Y_train)\n",
        "#predict on train \n",
        "train_preds4 = RF.predict(X_training_set)\n",
        "#accuracy on train\n",
        "print(\"Model accuracy on train is: \", accuracy_score(Y_train, train_preds4))\n",
        "\n",
        "#predict on test\n",
        "test_preds4 = RF.predict(X_test_set)"
      ],
      "execution_count": null,
      "outputs": [
        {
          "name": "stdout",
          "output_type": "stream",
          "text": [
            "Model accuracy on train is:  0.9942994299429943\n"
          ]
        }
      ]
    },
    {
      "cell_type": "code",
      "metadata": {
        "id": "LzVsML5qr1IB"
      },
      "source": [
        "test_preds4 = log_reg.predict(X_test_set)"
      ],
      "execution_count": null,
      "outputs": []
    },
    {
      "cell_type": "code",
      "metadata": {
        "id": "J2TdkDYZr1IB"
      },
      "source": [
        "prediction=X_test"
      ],
      "execution_count": null,
      "outputs": []
    },
    {
      "cell_type": "code",
      "metadata": {
        "id": "walsSrmOr1IB",
        "outputId": "d99d60dd-5669-4496-c186-130110cc02f7"
      },
      "source": [
        "prediction['Cust_Sub_Cancelation_Chances']=test_preds4\n",
        "print(\"Prediction Count:\\n\",prediction['Cust_Sub_Cancelation_Chances'].value_counts())\n",
        "print(\"\\nShape: \",prediction.shape)"
      ],
      "execution_count": null,
      "outputs": [
        {
          "name": "stdout",
          "output_type": "stream",
          "text": [
            "Prediction Count:\n",
            " False    408\n",
            "True      17\n",
            "Name: Cust_Sub_Cancelation_Chances, dtype: int64\n",
            "\n",
            "Shape:  (425, 22)\n"
          ]
        }
      ]
    },
    {
      "cell_type": "code",
      "metadata": {
        "id": "gr-audPnr1IB"
      },
      "source": [
        "prediction.to_csv('RandomForestClassifier.csv')"
      ],
      "execution_count": null,
      "outputs": []
    },
    {
      "cell_type": "code",
      "metadata": {
        "id": "Mo-USPKyr1IC"
      },
      "source": [
        ""
      ],
      "execution_count": null,
      "outputs": []
    },
    {
      "cell_type": "code",
      "metadata": {
        "id": "FPz4eA2cr1IC"
      },
      "source": [
        ""
      ],
      "execution_count": null,
      "outputs": []
    },
    {
      "cell_type": "code",
      "metadata": {
        "id": "jsWhEZNcr1IC"
      },
      "source": [
        ""
      ],
      "execution_count": null,
      "outputs": []
    },
    {
      "cell_type": "code",
      "metadata": {
        "id": "0gWJrSZlr1IC"
      },
      "source": [
        ""
      ],
      "execution_count": null,
      "outputs": []
    }
  ]
}