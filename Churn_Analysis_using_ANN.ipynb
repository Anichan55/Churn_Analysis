{
  "nbformat": 4,
  "nbformat_minor": 0,
  "metadata": {
    "colab": {
      "name": "Churn Analysis using ANN.ipynb",
      "provenance": [],
      "collapsed_sections": [],
      "authorship_tag": "ABX9TyPGn0Oo5gij09nF6nVn0brS",
      "include_colab_link": true
    },
    "kernelspec": {
      "name": "python3",
      "display_name": "Python 3"
    },
    "language_info": {
      "name": "python"
    }
  },
  "cells": [
    {
      "cell_type": "markdown",
      "metadata": {
        "id": "view-in-github",
        "colab_type": "text"
      },
      "source": [
        "<a href=\"https://colab.research.google.com/github/Anichan55/Churn_Analysis/blob/main/Churn_Analysis_using_ANN.ipynb\" target=\"_parent\"><img src=\"https://colab.research.google.com/assets/colab-badge.svg\" alt=\"Open In Colab\"/></a>"
      ]
    },
    {
      "cell_type": "markdown",
      "metadata": {
        "id": "MAfmf-jGd5Bl"
      },
      "source": [
        "**Importing the Libraries**"
      ]
    },
    {
      "cell_type": "code",
      "metadata": {
        "id": "wTjV3HIrd-wg"
      },
      "source": [
        "import numpy as np\n",
        "import pandas as pd\n",
        "import tensorflow as tf"
      ],
      "execution_count": 180,
      "outputs": []
    },
    {
      "cell_type": "code",
      "metadata": {
        "colab": {
          "base_uri": "https://localhost:8080/",
          "height": 35
        },
        "id": "IJHKmhuTeCZ8",
        "outputId": "a19ef14b-2ee1-4b30-9d7f-ea79194d7192"
      },
      "source": [
        "tf.__version__"
      ],
      "execution_count": 181,
      "outputs": [
        {
          "output_type": "execute_result",
          "data": {
            "application/vnd.google.colaboratory.intrinsic+json": {
              "type": "string"
            },
            "text/plain": [
              "'2.6.0'"
            ]
          },
          "metadata": {},
          "execution_count": 181
        }
      ]
    },
    {
      "cell_type": "markdown",
      "metadata": {
        "id": "gFx4potBeEQt"
      },
      "source": [
        "# **Data Preprocessing**"
      ]
    },
    {
      "cell_type": "markdown",
      "metadata": {
        "id": "njIHlP9_eO5G"
      },
      "source": [
        "### Importing the Dataset"
      ]
    },
    {
      "cell_type": "code",
      "metadata": {
        "id": "6Gc9qUE6eTyZ"
      },
      "source": [
        "dataset = pd.read_csv('churnTrain.csv')\n",
        "dataset=dataset.drop(columns='Phone_No')\n",
        "X = dataset.iloc[:,2:-1].values\n",
        "Y = dataset.iloc[:,-1].values"
      ],
      "execution_count": 182,
      "outputs": []
    },
    {
      "cell_type": "code",
      "metadata": {
        "colab": {
          "base_uri": "https://localhost:8080/"
        },
        "id": "ZkHWu3f-e6CE",
        "outputId": "ddfa3013-3e8a-42b5-bc3d-0fd57d7401a7"
      },
      "source": [
        "dataset.columns"
      ],
      "execution_count": 183,
      "outputs": [
        {
          "output_type": "execute_result",
          "data": {
            "text/plain": [
              "Index(['State', 'Account_Length', 'Area_Code', 'International_Plan',\n",
              "       'Voice_Mail_Plan', 'No_Vmail_Messages', 'Total_Day_minutes',\n",
              "       'Total_Day_Calls', 'Total_Day_charge', 'Total_Eve_Minutes',\n",
              "       'Total_Eve_Calls', 'Total_Eve_Charge', 'Total_Night_Minutes',\n",
              "       'Total_Night_Calls', 'Total_Night_Charge', 'Total_Intl_Minutes',\n",
              "       'Total_Intl_Calls', 'Total_Intl_Charge', 'No_CS_Calls', 'Churn'],\n",
              "      dtype='object')"
            ]
          },
          "metadata": {},
          "execution_count": 183
        }
      ]
    },
    {
      "cell_type": "code",
      "metadata": {
        "colab": {
          "base_uri": "https://localhost:8080/"
        },
        "id": "3pRsqmYNfBJw",
        "outputId": "dc8bdf77-1160-4829-e477-af5e5eeea946"
      },
      "source": [
        "X"
      ],
      "execution_count": 184,
      "outputs": [
        {
          "output_type": "execute_result",
          "data": {
            "text/plain": [
              "array([[415, ' no', ' yes', ..., 3, 2.7, 1],\n",
              "       [415, ' no', ' yes', ..., 3, 3.7, 1],\n",
              "       [415, ' no', ' no', ..., 5, 3.29, 0],\n",
              "       ...,\n",
              "       [510, ' no', ' no', ..., 6, 3.81, 2],\n",
              "       [510, ' yes', ' no', ..., 10, 1.35, 2],\n",
              "       [415, ' no', ' yes', ..., 4, 3.7, 0]], dtype=object)"
            ]
          },
          "metadata": {},
          "execution_count": 184
        }
      ]
    },
    {
      "cell_type": "code",
      "metadata": {
        "colab": {
          "base_uri": "https://localhost:8080/"
        },
        "id": "-6H9om2gfB8S",
        "outputId": "bb04a6ca-5bd1-4387-c464-f57b864829b3"
      },
      "source": [
        "Y"
      ],
      "execution_count": 185,
      "outputs": [
        {
          "output_type": "execute_result",
          "data": {
            "text/plain": [
              "array([False, False, False, ..., False, False, False])"
            ]
          },
          "metadata": {},
          "execution_count": 185
        }
      ]
    },
    {
      "cell_type": "markdown",
      "metadata": {
        "id": "dCmHO2hQvK8N"
      },
      "source": [
        "### One Hot Encoding the Area Code column"
      ]
    },
    {
      "cell_type": "code",
      "metadata": {
        "id": "lVLPehvnfDhS"
      },
      "source": [
        "from sklearn.compose import ColumnTransformer\n",
        "from sklearn.preprocessing import OneHotEncoder\n",
        "ct = ColumnTransformer(transformers=[('encoder', OneHotEncoder(), [0])], remainder='passthrough')\n",
        "X = np.array(ct.fit_transform(X))"
      ],
      "execution_count": 186,
      "outputs": []
    },
    {
      "cell_type": "markdown",
      "metadata": {
        "id": "oH2sZBexwI0z"
      },
      "source": [
        "### Label Encoding the \"Internation Plan\" and \"Voice Mail\" Plan column"
      ]
    },
    {
      "cell_type": "code",
      "metadata": {
        "id": "SF0AoklLuMX3"
      },
      "source": [
        "from sklearn.preprocessing import LabelEncoder\n",
        "le = LabelEncoder()\n",
        "X[:,3] = le.fit_transform(X[:,3])\n",
        "X[:,4] = le.fit_transform(X[:,4])"
      ],
      "execution_count": 187,
      "outputs": []
    },
    {
      "cell_type": "markdown",
      "metadata": {
        "id": "EOuaErdDw920"
      },
      "source": [
        "## Label Encoding the dependent variable Y"
      ]
    },
    {
      "cell_type": "code",
      "metadata": {
        "id": "0-rrpRxmxMC-"
      },
      "source": [
        "from sklearn.preprocessing import LabelEncoder\n",
        "le = LabelEncoder()\n",
        "Y = le.fit_transform(Y)\n"
      ],
      "execution_count": 188,
      "outputs": []
    },
    {
      "cell_type": "markdown",
      "metadata": {
        "id": "ZvYZ0xzCv4sk"
      },
      "source": [
        "# **Splitting the dataset into the Training set and Test set**\n"
      ]
    },
    {
      "cell_type": "code",
      "metadata": {
        "id": "5lHaxZ-hvvJn"
      },
      "source": [
        "from sklearn.model_selection import train_test_split\n",
        "X_train, X_test, y_train, y_test = train_test_split(X, Y, test_size = 0.2, random_state = 0)"
      ],
      "execution_count": 189,
      "outputs": []
    },
    {
      "cell_type": "markdown",
      "metadata": {
        "id": "d144PKgoyEh_"
      },
      "source": [
        "## Feature Scaling"
      ]
    },
    {
      "cell_type": "code",
      "metadata": {
        "id": "OaZUcYFex7xi"
      },
      "source": [
        "from sklearn.preprocessing import StandardScaler\n",
        "sc = StandardScaler()\n",
        "X_train = sc.fit_transform(X_train)\n",
        "X_test = sc.transform(X_test)"
      ],
      "execution_count": 190,
      "outputs": []
    },
    {
      "cell_type": "markdown",
      "metadata": {
        "id": "9W9B2Siny3Yk"
      },
      "source": [
        "# **Building the** **ANN**"
      ]
    },
    {
      "cell_type": "code",
      "metadata": {
        "id": "EV5OFi1SzFDg"
      },
      "source": [
        "ann=tf.keras.models.Sequential()\n",
        "ann.add(tf.keras.layers.Dense(units=6,activation='relu'))\n",
        "ann.add(tf.keras.layers.Dense(units=6,activation='relu'))\n",
        "ann.add(tf.keras.layers.Dense(units=1,activation='sigmoid'))"
      ],
      "execution_count": 191,
      "outputs": []
    },
    {
      "cell_type": "markdown",
      "metadata": {
        "id": "-OwbZ3u5zUDw"
      },
      "source": [
        "# **Training the ANN**"
      ]
    },
    {
      "cell_type": "code",
      "metadata": {
        "id": "POvvhyANzZMI"
      },
      "source": [
        "ann.compile(optimizer='adam',loss='mean_squared_error',metrics=['accuracy'])"
      ],
      "execution_count": 192,
      "outputs": []
    },
    {
      "cell_type": "code",
      "metadata": {
        "colab": {
          "base_uri": "https://localhost:8080/"
        },
        "id": "_ysafDfNzcde",
        "outputId": "a508d8d2-c730-4f2a-d6b1-b9dffbb1f50e"
      },
      "source": [
        "ann.fit(X_train,y_train,batch_size=32,epochs=100)"
      ],
      "execution_count": 193,
      "outputs": [
        {
          "output_type": "stream",
          "name": "stdout",
          "text": [
            "Epoch 1/100\n",
            "84/84 [==============================] - 1s 1ms/step - loss: 0.2050 - accuracy: 0.7802\n",
            "Epoch 2/100\n",
            "84/84 [==============================] - 0s 2ms/step - loss: 0.1632 - accuracy: 0.8515\n",
            "Epoch 3/100\n",
            "84/84 [==============================] - 0s 2ms/step - loss: 0.1384 - accuracy: 0.8518\n",
            "Epoch 4/100\n",
            "84/84 [==============================] - 0s 2ms/step - loss: 0.1253 - accuracy: 0.8518\n",
            "Epoch 5/100\n",
            "84/84 [==============================] - 0s 2ms/step - loss: 0.1174 - accuracy: 0.8522\n",
            "Epoch 6/100\n",
            "84/84 [==============================] - 0s 2ms/step - loss: 0.1111 - accuracy: 0.8608\n",
            "Epoch 7/100\n",
            "84/84 [==============================] - 0s 2ms/step - loss: 0.1052 - accuracy: 0.8792\n",
            "Epoch 8/100\n",
            "84/84 [==============================] - 0s 2ms/step - loss: 0.0997 - accuracy: 0.8867\n",
            "Epoch 9/100\n",
            "84/84 [==============================] - 0s 2ms/step - loss: 0.0948 - accuracy: 0.8871\n",
            "Epoch 10/100\n",
            "84/84 [==============================] - 0s 1ms/step - loss: 0.0905 - accuracy: 0.8905\n",
            "Epoch 11/100\n",
            "84/84 [==============================] - 0s 2ms/step - loss: 0.0864 - accuracy: 0.8923\n",
            "Epoch 12/100\n",
            "84/84 [==============================] - 0s 1ms/step - loss: 0.0815 - accuracy: 0.8987\n",
            "Epoch 13/100\n",
            "84/84 [==============================] - 0s 1ms/step - loss: 0.0765 - accuracy: 0.9074\n",
            "Epoch 14/100\n",
            "84/84 [==============================] - 0s 2ms/step - loss: 0.0724 - accuracy: 0.9111\n",
            "Epoch 15/100\n",
            "84/84 [==============================] - 0s 2ms/step - loss: 0.0694 - accuracy: 0.9137\n",
            "Epoch 16/100\n",
            "84/84 [==============================] - 0s 1ms/step - loss: 0.0674 - accuracy: 0.9164\n",
            "Epoch 17/100\n",
            "84/84 [==============================] - 0s 1ms/step - loss: 0.0658 - accuracy: 0.9167\n",
            "Epoch 18/100\n",
            "84/84 [==============================] - 0s 1ms/step - loss: 0.0641 - accuracy: 0.9205\n",
            "Epoch 19/100\n",
            "84/84 [==============================] - 0s 1ms/step - loss: 0.0632 - accuracy: 0.9216\n",
            "Epoch 20/100\n",
            "84/84 [==============================] - 0s 1ms/step - loss: 0.0618 - accuracy: 0.9235\n",
            "Epoch 21/100\n",
            "84/84 [==============================] - 0s 2ms/step - loss: 0.0611 - accuracy: 0.9269\n",
            "Epoch 22/100\n",
            "84/84 [==============================] - 0s 2ms/step - loss: 0.0601 - accuracy: 0.9272\n",
            "Epoch 23/100\n",
            "84/84 [==============================] - 0s 1ms/step - loss: 0.0596 - accuracy: 0.9276\n",
            "Epoch 24/100\n",
            "84/84 [==============================] - 0s 1ms/step - loss: 0.0588 - accuracy: 0.9291\n",
            "Epoch 25/100\n",
            "84/84 [==============================] - 0s 2ms/step - loss: 0.0582 - accuracy: 0.9310\n",
            "Epoch 26/100\n",
            "84/84 [==============================] - 0s 2ms/step - loss: 0.0576 - accuracy: 0.9310\n",
            "Epoch 27/100\n",
            "84/84 [==============================] - 0s 2ms/step - loss: 0.0569 - accuracy: 0.9321\n",
            "Epoch 28/100\n",
            "84/84 [==============================] - 0s 2ms/step - loss: 0.0564 - accuracy: 0.9329\n",
            "Epoch 29/100\n",
            "84/84 [==============================] - 0s 2ms/step - loss: 0.0559 - accuracy: 0.9332\n",
            "Epoch 30/100\n",
            "84/84 [==============================] - 0s 1ms/step - loss: 0.0554 - accuracy: 0.9336\n",
            "Epoch 31/100\n",
            "84/84 [==============================] - 0s 1ms/step - loss: 0.0551 - accuracy: 0.9351\n",
            "Epoch 32/100\n",
            "84/84 [==============================] - 0s 2ms/step - loss: 0.0547 - accuracy: 0.9362\n",
            "Epoch 33/100\n",
            "84/84 [==============================] - 0s 2ms/step - loss: 0.0543 - accuracy: 0.9381\n",
            "Epoch 34/100\n",
            "84/84 [==============================] - 0s 1ms/step - loss: 0.0538 - accuracy: 0.9389\n",
            "Epoch 35/100\n",
            "84/84 [==============================] - 0s 1ms/step - loss: 0.0535 - accuracy: 0.9381\n",
            "Epoch 36/100\n",
            "84/84 [==============================] - 0s 2ms/step - loss: 0.0530 - accuracy: 0.9400\n",
            "Epoch 37/100\n",
            "84/84 [==============================] - 0s 1ms/step - loss: 0.0529 - accuracy: 0.9389\n",
            "Epoch 38/100\n",
            "84/84 [==============================] - 0s 2ms/step - loss: 0.0525 - accuracy: 0.9407\n",
            "Epoch 39/100\n",
            "84/84 [==============================] - 0s 2ms/step - loss: 0.0523 - accuracy: 0.9407\n",
            "Epoch 40/100\n",
            "84/84 [==============================] - 0s 1ms/step - loss: 0.0521 - accuracy: 0.9415\n",
            "Epoch 41/100\n",
            "84/84 [==============================] - 0s 2ms/step - loss: 0.0519 - accuracy: 0.9407\n",
            "Epoch 42/100\n",
            "84/84 [==============================] - 0s 1ms/step - loss: 0.0515 - accuracy: 0.9407\n",
            "Epoch 43/100\n",
            "84/84 [==============================] - 0s 2ms/step - loss: 0.0513 - accuracy: 0.9419\n",
            "Epoch 44/100\n",
            "84/84 [==============================] - 0s 1ms/step - loss: 0.0510 - accuracy: 0.9419\n",
            "Epoch 45/100\n",
            "84/84 [==============================] - 0s 2ms/step - loss: 0.0509 - accuracy: 0.9419\n",
            "Epoch 46/100\n",
            "84/84 [==============================] - 0s 2ms/step - loss: 0.0506 - accuracy: 0.9422\n",
            "Epoch 47/100\n",
            "84/84 [==============================] - 0s 2ms/step - loss: 0.0505 - accuracy: 0.9430\n",
            "Epoch 48/100\n",
            "84/84 [==============================] - 0s 2ms/step - loss: 0.0504 - accuracy: 0.9426\n",
            "Epoch 49/100\n",
            "84/84 [==============================] - 0s 2ms/step - loss: 0.0502 - accuracy: 0.9434\n",
            "Epoch 50/100\n",
            "84/84 [==============================] - 0s 2ms/step - loss: 0.0498 - accuracy: 0.9441\n",
            "Epoch 51/100\n",
            "84/84 [==============================] - 0s 2ms/step - loss: 0.0497 - accuracy: 0.9437\n",
            "Epoch 52/100\n",
            "84/84 [==============================] - 0s 1ms/step - loss: 0.0495 - accuracy: 0.9441\n",
            "Epoch 53/100\n",
            "84/84 [==============================] - 0s 2ms/step - loss: 0.0492 - accuracy: 0.9452\n",
            "Epoch 54/100\n",
            "84/84 [==============================] - 0s 2ms/step - loss: 0.0491 - accuracy: 0.9445\n",
            "Epoch 55/100\n",
            "84/84 [==============================] - 0s 1ms/step - loss: 0.0490 - accuracy: 0.9445\n",
            "Epoch 56/100\n",
            "84/84 [==============================] - 0s 2ms/step - loss: 0.0487 - accuracy: 0.9449\n",
            "Epoch 57/100\n",
            "84/84 [==============================] - 0s 2ms/step - loss: 0.0487 - accuracy: 0.9456\n",
            "Epoch 58/100\n",
            "84/84 [==============================] - 0s 2ms/step - loss: 0.0484 - accuracy: 0.9456\n",
            "Epoch 59/100\n",
            "84/84 [==============================] - 0s 2ms/step - loss: 0.0483 - accuracy: 0.9449\n",
            "Epoch 60/100\n",
            "84/84 [==============================] - 0s 1ms/step - loss: 0.0482 - accuracy: 0.9456\n",
            "Epoch 61/100\n",
            "84/84 [==============================] - 0s 2ms/step - loss: 0.0478 - accuracy: 0.9456\n",
            "Epoch 62/100\n",
            "84/84 [==============================] - 0s 2ms/step - loss: 0.0478 - accuracy: 0.9456\n",
            "Epoch 63/100\n",
            "84/84 [==============================] - 0s 2ms/step - loss: 0.0476 - accuracy: 0.9460\n",
            "Epoch 64/100\n",
            "84/84 [==============================] - 0s 2ms/step - loss: 0.0473 - accuracy: 0.9464\n",
            "Epoch 65/100\n",
            "84/84 [==============================] - 0s 2ms/step - loss: 0.0472 - accuracy: 0.9475\n",
            "Epoch 66/100\n",
            "84/84 [==============================] - 0s 2ms/step - loss: 0.0470 - accuracy: 0.9471\n",
            "Epoch 67/100\n",
            "84/84 [==============================] - 0s 2ms/step - loss: 0.0469 - accuracy: 0.9479\n",
            "Epoch 68/100\n",
            "84/84 [==============================] - 0s 2ms/step - loss: 0.0466 - accuracy: 0.9479\n",
            "Epoch 69/100\n",
            "84/84 [==============================] - 0s 2ms/step - loss: 0.0463 - accuracy: 0.9494\n",
            "Epoch 70/100\n",
            "84/84 [==============================] - 0s 2ms/step - loss: 0.0464 - accuracy: 0.9486\n",
            "Epoch 71/100\n",
            "84/84 [==============================] - 0s 2ms/step - loss: 0.0464 - accuracy: 0.9490\n",
            "Epoch 72/100\n",
            "84/84 [==============================] - 0s 2ms/step - loss: 0.0461 - accuracy: 0.9490\n",
            "Epoch 73/100\n",
            "84/84 [==============================] - 0s 1ms/step - loss: 0.0458 - accuracy: 0.9516\n",
            "Epoch 74/100\n",
            "84/84 [==============================] - 0s 2ms/step - loss: 0.0455 - accuracy: 0.9509\n",
            "Epoch 75/100\n",
            "84/84 [==============================] - 0s 2ms/step - loss: 0.0455 - accuracy: 0.9501\n",
            "Epoch 76/100\n",
            "84/84 [==============================] - 0s 2ms/step - loss: 0.0455 - accuracy: 0.9501\n",
            "Epoch 77/100\n",
            "84/84 [==============================] - 0s 2ms/step - loss: 0.0454 - accuracy: 0.9501\n",
            "Epoch 78/100\n",
            "84/84 [==============================] - 0s 2ms/step - loss: 0.0452 - accuracy: 0.9501\n",
            "Epoch 79/100\n",
            "84/84 [==============================] - 0s 2ms/step - loss: 0.0451 - accuracy: 0.9501\n",
            "Epoch 80/100\n",
            "84/84 [==============================] - 0s 2ms/step - loss: 0.0449 - accuracy: 0.9505\n",
            "Epoch 81/100\n",
            "84/84 [==============================] - 0s 2ms/step - loss: 0.0448 - accuracy: 0.9505\n",
            "Epoch 82/100\n",
            "84/84 [==============================] - 0s 2ms/step - loss: 0.0448 - accuracy: 0.9505\n",
            "Epoch 83/100\n",
            "84/84 [==============================] - 0s 2ms/step - loss: 0.0447 - accuracy: 0.9505\n",
            "Epoch 84/100\n",
            "84/84 [==============================] - 0s 2ms/step - loss: 0.0446 - accuracy: 0.9497\n",
            "Epoch 85/100\n",
            "84/84 [==============================] - 0s 2ms/step - loss: 0.0444 - accuracy: 0.9494\n",
            "Epoch 86/100\n",
            "84/84 [==============================] - 0s 2ms/step - loss: 0.0443 - accuracy: 0.9520\n",
            "Epoch 87/100\n",
            "84/84 [==============================] - 0s 1ms/step - loss: 0.0443 - accuracy: 0.9494\n",
            "Epoch 88/100\n",
            "84/84 [==============================] - 0s 2ms/step - loss: 0.0441 - accuracy: 0.9509\n",
            "Epoch 89/100\n",
            "84/84 [==============================] - 0s 2ms/step - loss: 0.0439 - accuracy: 0.9509\n",
            "Epoch 90/100\n",
            "84/84 [==============================] - 0s 2ms/step - loss: 0.0438 - accuracy: 0.9509\n",
            "Epoch 91/100\n",
            "84/84 [==============================] - 0s 2ms/step - loss: 0.0436 - accuracy: 0.9531\n",
            "Epoch 92/100\n",
            "84/84 [==============================] - 0s 2ms/step - loss: 0.0437 - accuracy: 0.9520\n",
            "Epoch 93/100\n",
            "84/84 [==============================] - 0s 2ms/step - loss: 0.0437 - accuracy: 0.9501\n",
            "Epoch 94/100\n",
            "84/84 [==============================] - 0s 2ms/step - loss: 0.0435 - accuracy: 0.9509\n",
            "Epoch 95/100\n",
            "84/84 [==============================] - 0s 2ms/step - loss: 0.0432 - accuracy: 0.9524\n",
            "Epoch 96/100\n",
            "84/84 [==============================] - 0s 1ms/step - loss: 0.0433 - accuracy: 0.9516\n",
            "Epoch 97/100\n",
            "84/84 [==============================] - 0s 2ms/step - loss: 0.0432 - accuracy: 0.9527\n",
            "Epoch 98/100\n",
            "84/84 [==============================] - 0s 2ms/step - loss: 0.0432 - accuracy: 0.9524\n",
            "Epoch 99/100\n",
            "84/84 [==============================] - 0s 2ms/step - loss: 0.0430 - accuracy: 0.9512\n",
            "Epoch 100/100\n",
            "84/84 [==============================] - 0s 2ms/step - loss: 0.0430 - accuracy: 0.9520\n"
          ]
        },
        {
          "output_type": "execute_result",
          "data": {
            "text/plain": [
              "<keras.callbacks.History at 0x7fe6c369a190>"
            ]
          },
          "metadata": {},
          "execution_count": 193
        }
      ]
    },
    {
      "cell_type": "markdown",
      "metadata": {
        "id": "vcPE-Tsj0FOt"
      },
      "source": [
        "## **Predicting the results of the test set of ChurnTrain**"
      ]
    },
    {
      "cell_type": "code",
      "metadata": {
        "colab": {
          "base_uri": "https://localhost:8080/"
        },
        "id": "Q7AGNq06j9g4",
        "outputId": "60125abe-1bc3-4b29-c0b4-256562688e5e"
      },
      "source": [
        "X_test"
      ],
      "execution_count": 194,
      "outputs": [
        {
          "output_type": "execute_result",
          "data": {
            "text/plain": [
              "array([[-0.58225906,  1.01435661, -0.58341413, ...,  0.21418988,\n",
              "        -0.33633574, -1.17967998],\n",
              "       [-0.58225906, -0.98584659,  1.71404831, ..., -0.60566687,\n",
              "        -0.08616319,  0.33819011],\n",
              "       [-0.58225906, -0.98584659,  1.71404831, ..., -0.19573849,\n",
              "         0.8091912 ,  1.09712515],\n",
              "       ...,\n",
              "       [-0.58225906,  1.01435661, -0.58341413, ..., -0.60566687,\n",
              "         0.55901865, -0.42074493],\n",
              "       [ 1.71744858, -0.98584659, -0.58341413, ..., -1.42552363,\n",
              "        -0.83668084, -0.42074493],\n",
              "       [ 1.71744858, -0.98584659, -0.58341413, ..., -0.19573849,\n",
              "        -0.29683481,  1.09712515]])"
            ]
          },
          "metadata": {},
          "execution_count": 194
        }
      ]
    },
    {
      "cell_type": "code",
      "metadata": {
        "colab": {
          "base_uri": "https://localhost:8080/"
        },
        "id": "if9buChHzpB1",
        "outputId": "efa16f6f-ba91-4b20-fc34-33ef4cdd2f96"
      },
      "source": [
        "y_pred = ann.predict(X_test)\n",
        "y_pred = (y_pred > 0.5)\n",
        "print(np.concatenate((y_pred.reshape(len(y_pred),1), y_test.reshape(len(y_test),1)),1))"
      ],
      "execution_count": 195,
      "outputs": [
        {
          "output_type": "stream",
          "name": "stdout",
          "text": [
            "[[1 0]\n",
            " [0 0]\n",
            " [0 0]\n",
            " ...\n",
            " [0 0]\n",
            " [0 1]\n",
            " [0 0]]\n"
          ]
        }
      ]
    },
    {
      "cell_type": "code",
      "metadata": {
        "colab": {
          "base_uri": "https://localhost:8080/"
        },
        "id": "AeA3p6nXz5Ks",
        "outputId": "8759516f-567c-4a16-edd8-0a87a2044e55"
      },
      "source": [
        "from sklearn.metrics import confusion_matrix, accuracy_score\n",
        "cm = confusion_matrix(y_test, y_pred)\n",
        "print(cm)\n",
        "accuracy_score(y_test, y_pred)"
      ],
      "execution_count": 196,
      "outputs": [
        {
          "output_type": "stream",
          "name": "stdout",
          "text": [
            "[[557  22]\n",
            " [ 24  64]]\n"
          ]
        },
        {
          "output_type": "execute_result",
          "data": {
            "text/plain": [
              "0.9310344827586207"
            ]
          },
          "metadata": {},
          "execution_count": 196
        }
      ]
    },
    {
      "cell_type": "markdown",
      "metadata": {
        "id": "NlBDTFtY0SGp"
      },
      "source": [
        "## **Working on ChrunTest Dataset**"
      ]
    },
    {
      "cell_type": "code",
      "metadata": {
        "id": "zueWZvW50jbO"
      },
      "source": [
        "dataset = pd.read_csv('churnTest.csv')\n",
        "dataset=dataset.drop(columns='Phone_No')\n",
        "#X = dataset.iloc[:,2:].values\n"
      ],
      "execution_count": 197,
      "outputs": []
    },
    {
      "cell_type": "markdown",
      "metadata": {
        "id": "19278n8O19dj"
      },
      "source": [
        "# Working with Nan values in the dataset"
      ]
    },
    {
      "cell_type": "code",
      "metadata": {
        "colab": {
          "base_uri": "https://localhost:8080/"
        },
        "id": "uHj_aLsP1ggm",
        "outputId": "945a7546-2fcc-4f39-e156-f651f51b9ec4"
      },
      "source": [
        "dataset.isna().sum()"
      ],
      "execution_count": 198,
      "outputs": [
        {
          "output_type": "execute_result",
          "data": {
            "text/plain": [
              "State                   0\n",
              "Account_Length          1\n",
              "Area_Code               1\n",
              "International_Plan      5\n",
              "Voice_Mail_Plan         4\n",
              "No_Vmail_Messages       0\n",
              "Total_Day_minutes       7\n",
              "Total_Day_Calls         4\n",
              "Total_Day_charge       11\n",
              "Total_Eve_Minutes      11\n",
              "Total_Eve_Calls         4\n",
              "Total_Eve_Charge        5\n",
              "Total_Night_Minutes    11\n",
              "Total_Night_Calls       6\n",
              "Total_Night_Charge      4\n",
              "Total_Intl_Minutes      3\n",
              "Total_Intl_Calls        5\n",
              "Total_Intl_Charge       0\n",
              "No_CS_Calls             0\n",
              "dtype: int64"
            ]
          },
          "metadata": {},
          "execution_count": 198
        }
      ]
    },
    {
      "cell_type": "markdown",
      "metadata": {
        "id": "3umi17dIJ5uL"
      },
      "source": [
        "## Dropping the row with Area code NaN"
      ]
    },
    {
      "cell_type": "code",
      "metadata": {
        "id": "dU2Zqms6BavU"
      },
      "source": [
        "dataset.dropna(subset = [\"Area_Code\"], inplace=True)"
      ],
      "execution_count": 199,
      "outputs": []
    },
    {
      "cell_type": "markdown",
      "metadata": {
        "id": "uo707Ze9KAOC"
      },
      "source": [
        "## Filling NaN values in 'Voice Mail Plan' and 'International Plan' with 'no'"
      ]
    },
    {
      "cell_type": "code",
      "metadata": {
        "id": "DVGuUNVllh_-"
      },
      "source": [
        "dataset['Voice_Mail_Plan'] = dataset['Voice_Mail_Plan'].fillna('no')\n",
        "dataset['International_Plan'] = dataset['International_Plan'].fillna('no')\n"
      ],
      "execution_count": 200,
      "outputs": []
    },
    {
      "cell_type": "code",
      "metadata": {
        "id": "Ty0Jmc1CkmYy"
      },
      "source": [
        "X = dataset.iloc[:,2:].values"
      ],
      "execution_count": 201,
      "outputs": []
    },
    {
      "cell_type": "markdown",
      "metadata": {
        "id": "jktAvU3Aip8H"
      },
      "source": [
        "### **One Hot Encoding the Area Code column and Label Encoding the \"Internation Plan\" and \"Voice Mail\" Plan column**"
      ]
    },
    {
      "cell_type": "code",
      "metadata": {
        "id": "MmN0-eqg1D6v"
      },
      "source": [
        "from sklearn.compose import ColumnTransformer\n",
        "from sklearn.preprocessing import OneHotEncoder\n",
        "ct = ColumnTransformer(transformers=[('encoder', OneHotEncoder(), [0])], remainder='passthrough')\n",
        "X = np.array(ct.fit_transform(X))"
      ],
      "execution_count": 202,
      "outputs": []
    },
    {
      "cell_type": "code",
      "metadata": {
        "id": "W-dzGSVC1aG2"
      },
      "source": [
        "from sklearn.preprocessing import LabelEncoder\n",
        "le = LabelEncoder()\n",
        "X[:,3] = le.fit_transform(X[:,3])\n",
        "X[:,4] = le.fit_transform(X[:,4])"
      ],
      "execution_count": 203,
      "outputs": []
    },
    {
      "cell_type": "markdown",
      "metadata": {
        "id": "JaR2lerwp95D"
      },
      "source": [
        "# Feature Scaling"
      ]
    },
    {
      "cell_type": "code",
      "metadata": {
        "id": "3wc39SZLi51w"
      },
      "source": [
        "from sklearn.preprocessing import StandardScaler\n",
        "sc = StandardScaler()\n",
        "X = sc.fit_transform(X)"
      ],
      "execution_count": 204,
      "outputs": []
    },
    {
      "cell_type": "markdown",
      "metadata": {
        "id": "0em9mIsiqDZ1"
      },
      "source": [
        "# Predicting Churn Column of ChurnTest Dataset"
      ]
    },
    {
      "cell_type": "code",
      "metadata": {
        "id": "bj_6X3zsjX5A"
      },
      "source": [
        "y_pred = ann.predict(X)\n",
        "y_pred = (y_pred > 0.5)\n",
        "#print(np.concatenate((y_pred.reshape(len(y_pred),1), y_test.reshape(len(y_test),1)),1))"
      ],
      "execution_count": 205,
      "outputs": []
    },
    {
      "cell_type": "code",
      "metadata": {
        "id": "2w3X-vJtkqv1"
      },
      "source": [
        "y_pred\n",
        "\n",
        "df = pd.DataFrame(data=y_pred, columns=['Churn'])"
      ],
      "execution_count": 206,
      "outputs": []
    },
    {
      "cell_type": "code",
      "metadata": {
        "id": "_UdEYnZilccG"
      },
      "source": [
        "frames = [dataset, df]\n",
        "\n",
        "result = pd.concat(frames,axis=1)"
      ],
      "execution_count": 207,
      "outputs": []
    },
    {
      "cell_type": "code",
      "metadata": {
        "id": "iPW8c1lylpU8"
      },
      "source": [
        "result.to_csv('Result.csv')"
      ],
      "execution_count": 208,
      "outputs": []
    }
  ]
}