{
  "nbformat": 4,
  "nbformat_minor": 0,
  "metadata": {
    "colab": {
      "name": "Churn Analysis using ANN.ipynb",
      "provenance": [],
      "collapsed_sections": [],
      "include_colab_link": true
    },
    "kernelspec": {
      "name": "python3",
      "display_name": "Python 3"
    },
    "language_info": {
      "name": "python"
    }
  },
  "cells": [
    {
      "cell_type": "markdown",
      "metadata": {
        "id": "view-in-github",
        "colab_type": "text"
      },
      "source": [
        "<a href=\"https://colab.research.google.com/github/Anichan55/Churn_Analysis/blob/main/Churn_Analysis_using_ANN.ipynb\" target=\"_parent\"><img src=\"https://colab.research.google.com/assets/colab-badge.svg\" alt=\"Open In Colab\"/></a>"
      ]
    },
    {
      "cell_type": "markdown",
      "metadata": {
        "id": "MAfmf-jGd5Bl"
      },
      "source": [
        "**Importing the Libraries**"
      ]
    },
    {
      "cell_type": "code",
      "metadata": {
        "id": "wTjV3HIrd-wg"
      },
      "source": [
        "import numpy as np\n",
        "import pandas as pd\n",
        "import tensorflow as tf"
      ],
      "execution_count": 82,
      "outputs": []
    },
    {
      "cell_type": "code",
      "metadata": {
        "colab": {
          "base_uri": "https://localhost:8080/",
          "height": 35
        },
        "id": "IJHKmhuTeCZ8",
        "outputId": "0a7403b0-719a-4b8d-c73b-fd1c1a13d176"
      },
      "source": [
        "tf.__version__"
      ],
      "execution_count": 83,
      "outputs": [
        {
          "output_type": "execute_result",
          "data": {
            "application/vnd.google.colaboratory.intrinsic+json": {
              "type": "string"
            },
            "text/plain": [
              "'2.6.0'"
            ]
          },
          "metadata": {},
          "execution_count": 83
        }
      ]
    },
    {
      "cell_type": "markdown",
      "metadata": {
        "id": "gFx4potBeEQt"
      },
      "source": [
        "# **Data Preprocessing**"
      ]
    },
    {
      "cell_type": "markdown",
      "metadata": {
        "id": "njIHlP9_eO5G"
      },
      "source": [
        "### Importing the Dataset"
      ]
    },
    {
      "cell_type": "code",
      "metadata": {
        "id": "6Gc9qUE6eTyZ"
      },
      "source": [
        "dataset = pd.read_csv('churnTrain.csv')\n",
        "dataset=dataset.drop(columns='Phone_No')\n",
        "X = dataset.iloc[:,2:-1].values\n",
        "Y = dataset.iloc[:,-1].values"
      ],
      "execution_count": 84,
      "outputs": []
    },
    {
      "cell_type": "code",
      "metadata": {
        "colab": {
          "base_uri": "https://localhost:8080/"
        },
        "id": "ZkHWu3f-e6CE",
        "outputId": "fa7f4b3c-210b-47ac-8733-2df23ff72d58"
      },
      "source": [
        "dataset.columns"
      ],
      "execution_count": 85,
      "outputs": [
        {
          "output_type": "execute_result",
          "data": {
            "text/plain": [
              "Index(['State', 'Account_Length', 'Area_Code', 'International_Plan',\n",
              "       'Voice_Mail_Plan', 'No_Vmail_Messages', 'Total_Day_minutes',\n",
              "       'Total_Day_Calls', 'Total_Day_charge', 'Total_Eve_Minutes',\n",
              "       'Total_Eve_Calls', 'Total_Eve_Charge', 'Total_Night_Minutes',\n",
              "       'Total_Night_Calls', 'Total_Night_Charge', 'Total_Intl_Minutes',\n",
              "       'Total_Intl_Calls', 'Total_Intl_Charge', 'No_CS_Calls', 'Churn'],\n",
              "      dtype='object')"
            ]
          },
          "metadata": {},
          "execution_count": 85
        }
      ]
    },
    {
      "cell_type": "code",
      "metadata": {
        "colab": {
          "base_uri": "https://localhost:8080/"
        },
        "id": "3pRsqmYNfBJw",
        "outputId": "f11f0133-69d2-429d-a116-c01d06bb67fa"
      },
      "source": [
        "X"
      ],
      "execution_count": 86,
      "outputs": [
        {
          "output_type": "execute_result",
          "data": {
            "text/plain": [
              "array([[415, ' no', ' yes', ..., 3, 2.7, 1],\n",
              "       [415, ' no', ' yes', ..., 3, 3.7, 1],\n",
              "       [415, ' no', ' no', ..., 5, 3.29, 0],\n",
              "       ...,\n",
              "       [510, ' no', ' no', ..., 6, 3.81, 2],\n",
              "       [510, ' yes', ' no', ..., 10, 1.35, 2],\n",
              "       [415, ' no', ' yes', ..., 4, 3.7, 0]], dtype=object)"
            ]
          },
          "metadata": {},
          "execution_count": 86
        }
      ]
    },
    {
      "cell_type": "code",
      "metadata": {
        "colab": {
          "base_uri": "https://localhost:8080/"
        },
        "id": "-6H9om2gfB8S",
        "outputId": "76897294-cf3f-42dd-a6dc-a61bd0e0c6c3"
      },
      "source": [
        "Y"
      ],
      "execution_count": 87,
      "outputs": [
        {
          "output_type": "execute_result",
          "data": {
            "text/plain": [
              "array([False, False, False, ..., False, False, False])"
            ]
          },
          "metadata": {},
          "execution_count": 87
        }
      ]
    },
    {
      "cell_type": "markdown",
      "metadata": {
        "id": "dCmHO2hQvK8N"
      },
      "source": [
        "### One Hot Encoding the Area Code column"
      ]
    },
    {
      "cell_type": "code",
      "metadata": {
        "id": "lVLPehvnfDhS"
      },
      "source": [
        "from sklearn.compose import ColumnTransformer\n",
        "from sklearn.preprocessing import OneHotEncoder\n",
        "ct = ColumnTransformer(transformers=[('encoder', OneHotEncoder(), [0])], remainder='passthrough')\n",
        "X = np.array(ct.fit_transform(X))"
      ],
      "execution_count": 88,
      "outputs": []
    },
    {
      "cell_type": "markdown",
      "metadata": {
        "id": "oH2sZBexwI0z"
      },
      "source": [
        "### Label Encoding the \"Internation Plan\" and \"Voice Mail\" Plan column"
      ]
    },
    {
      "cell_type": "code",
      "metadata": {
        "id": "SF0AoklLuMX3"
      },
      "source": [
        "from sklearn.preprocessing import LabelEncoder\n",
        "le = LabelEncoder()\n",
        "X[:,3] = le.fit_transform(X[:,3])\n",
        "X[:,4] = le.fit_transform(X[:,4])"
      ],
      "execution_count": 89,
      "outputs": []
    },
    {
      "cell_type": "markdown",
      "metadata": {
        "id": "EOuaErdDw920"
      },
      "source": [
        "## Label Encoding the dependent variable Y"
      ]
    },
    {
      "cell_type": "code",
      "metadata": {
        "id": "0-rrpRxmxMC-"
      },
      "source": [
        "from sklearn.preprocessing import LabelEncoder\n",
        "le = LabelEncoder()\n",
        "Y = le.fit_transform(Y)\n"
      ],
      "execution_count": 90,
      "outputs": []
    },
    {
      "cell_type": "markdown",
      "metadata": {
        "id": "ZvYZ0xzCv4sk"
      },
      "source": [
        "# **Splitting the dataset into the Training set and Test set**\n"
      ]
    },
    {
      "cell_type": "code",
      "metadata": {
        "id": "5lHaxZ-hvvJn"
      },
      "source": [
        "from sklearn.model_selection import train_test_split\n",
        "X_train, X_test, y_train, y_test = train_test_split(X, Y, test_size = 0.2, random_state = 0)"
      ],
      "execution_count": 91,
      "outputs": []
    },
    {
      "cell_type": "markdown",
      "metadata": {
        "id": "d144PKgoyEh_"
      },
      "source": [
        "## Feature Scaling"
      ]
    },
    {
      "cell_type": "code",
      "metadata": {
        "id": "OaZUcYFex7xi"
      },
      "source": [
        "from sklearn.preprocessing import StandardScaler\n",
        "sc = StandardScaler()\n",
        "X_train = sc.fit_transform(X_train)\n",
        "X_test = sc.transform(X_test)"
      ],
      "execution_count": 92,
      "outputs": []
    },
    {
      "cell_type": "markdown",
      "metadata": {
        "id": "9W9B2Siny3Yk"
      },
      "source": [
        "# **Building the** **ANN**"
      ]
    },
    {
      "cell_type": "code",
      "metadata": {
        "id": "EV5OFi1SzFDg"
      },
      "source": [
        "ann=tf.keras.models.Sequential()\n",
        "ann.add(tf.keras.layers.Dense(units=6,activation='relu'))\n",
        "ann.add(tf.keras.layers.Dense(units=6,activation='relu'))\n",
        "ann.add(tf.keras.layers.Dense(units=1,activation='sigmoid'))"
      ],
      "execution_count": 93,
      "outputs": []
    },
    {
      "cell_type": "markdown",
      "metadata": {
        "id": "-OwbZ3u5zUDw"
      },
      "source": [
        "# **Training the ANN**"
      ]
    },
    {
      "cell_type": "code",
      "metadata": {
        "id": "POvvhyANzZMI"
      },
      "source": [
        "ann.compile(optimizer='adam',loss='mean_squared_error',metrics=['accuracy'])"
      ],
      "execution_count": 94,
      "outputs": []
    },
    {
      "cell_type": "code",
      "metadata": {
        "colab": {
          "base_uri": "https://localhost:8080/"
        },
        "id": "_ysafDfNzcde",
        "outputId": "29517c83-100e-40c1-8d48-8930b9cb91a6"
      },
      "source": [
        "ann.fit(X_train,y_train,batch_size=32,epochs=100)"
      ],
      "execution_count": 95,
      "outputs": [
        {
          "output_type": "stream",
          "name": "stdout",
          "text": [
            "Epoch 1/100\n",
            "84/84 [==============================] - 1s 2ms/step - loss: 0.1942 - accuracy: 0.7221\n",
            "Epoch 2/100\n",
            "84/84 [==============================] - 0s 1ms/step - loss: 0.1411 - accuracy: 0.8466\n",
            "Epoch 3/100\n",
            "84/84 [==============================] - 0s 1ms/step - loss: 0.1264 - accuracy: 0.8515\n",
            "Epoch 4/100\n",
            "84/84 [==============================] - 0s 2ms/step - loss: 0.1194 - accuracy: 0.8522\n",
            "Epoch 5/100\n",
            "84/84 [==============================] - 0s 1ms/step - loss: 0.1144 - accuracy: 0.8530\n",
            "Epoch 6/100\n",
            "84/84 [==============================] - 0s 1ms/step - loss: 0.1104 - accuracy: 0.8552\n",
            "Epoch 7/100\n",
            "84/84 [==============================] - 0s 1ms/step - loss: 0.1066 - accuracy: 0.8627\n",
            "Epoch 8/100\n",
            "84/84 [==============================] - 0s 1ms/step - loss: 0.1028 - accuracy: 0.8672\n",
            "Epoch 9/100\n",
            "84/84 [==============================] - 0s 1ms/step - loss: 0.0991 - accuracy: 0.8728\n",
            "Epoch 10/100\n",
            "84/84 [==============================] - 0s 1ms/step - loss: 0.0955 - accuracy: 0.8811\n",
            "Epoch 11/100\n",
            "84/84 [==============================] - 0s 1ms/step - loss: 0.0918 - accuracy: 0.8841\n",
            "Epoch 12/100\n",
            "84/84 [==============================] - 0s 1ms/step - loss: 0.0885 - accuracy: 0.8875\n",
            "Epoch 13/100\n",
            "84/84 [==============================] - 0s 1ms/step - loss: 0.0854 - accuracy: 0.8905\n",
            "Epoch 14/100\n",
            "84/84 [==============================] - 0s 1ms/step - loss: 0.0817 - accuracy: 0.8938\n",
            "Epoch 15/100\n",
            "84/84 [==============================] - 0s 1ms/step - loss: 0.0778 - accuracy: 0.8972\n",
            "Epoch 16/100\n",
            "84/84 [==============================] - 0s 1ms/step - loss: 0.0741 - accuracy: 0.9040\n",
            "Epoch 17/100\n",
            "84/84 [==============================] - 0s 1ms/step - loss: 0.0710 - accuracy: 0.9137\n",
            "Epoch 18/100\n",
            "84/84 [==============================] - 0s 1ms/step - loss: 0.0684 - accuracy: 0.9186\n",
            "Epoch 19/100\n",
            "84/84 [==============================] - 0s 2ms/step - loss: 0.0662 - accuracy: 0.9220\n",
            "Epoch 20/100\n",
            "84/84 [==============================] - 0s 1ms/step - loss: 0.0643 - accuracy: 0.9224\n",
            "Epoch 21/100\n",
            "84/84 [==============================] - 0s 1ms/step - loss: 0.0630 - accuracy: 0.9224\n",
            "Epoch 22/100\n",
            "84/84 [==============================] - 0s 1ms/step - loss: 0.0617 - accuracy: 0.9227\n",
            "Epoch 23/100\n",
            "84/84 [==============================] - 0s 1ms/step - loss: 0.0607 - accuracy: 0.9239\n",
            "Epoch 24/100\n",
            "84/84 [==============================] - 0s 2ms/step - loss: 0.0594 - accuracy: 0.9250\n",
            "Epoch 25/100\n",
            "84/84 [==============================] - 0s 1ms/step - loss: 0.0586 - accuracy: 0.9261\n",
            "Epoch 26/100\n",
            "84/84 [==============================] - 0s 1ms/step - loss: 0.0578 - accuracy: 0.9280\n",
            "Epoch 27/100\n",
            "84/84 [==============================] - 0s 1ms/step - loss: 0.0572 - accuracy: 0.9306\n",
            "Epoch 28/100\n",
            "84/84 [==============================] - 0s 1ms/step - loss: 0.0565 - accuracy: 0.9317\n",
            "Epoch 29/100\n",
            "84/84 [==============================] - 0s 1ms/step - loss: 0.0559 - accuracy: 0.9314\n",
            "Epoch 30/100\n",
            "84/84 [==============================] - 0s 2ms/step - loss: 0.0550 - accuracy: 0.9336\n",
            "Epoch 31/100\n",
            "84/84 [==============================] - 0s 1ms/step - loss: 0.0547 - accuracy: 0.9336\n",
            "Epoch 32/100\n",
            "84/84 [==============================] - 0s 1ms/step - loss: 0.0542 - accuracy: 0.9344\n",
            "Epoch 33/100\n",
            "84/84 [==============================] - 0s 1ms/step - loss: 0.0538 - accuracy: 0.9362\n",
            "Epoch 34/100\n",
            "84/84 [==============================] - 0s 1ms/step - loss: 0.0532 - accuracy: 0.9362\n",
            "Epoch 35/100\n",
            "84/84 [==============================] - 0s 1ms/step - loss: 0.0529 - accuracy: 0.9370\n",
            "Epoch 36/100\n",
            "84/84 [==============================] - 0s 1ms/step - loss: 0.0527 - accuracy: 0.9385\n",
            "Epoch 37/100\n",
            "84/84 [==============================] - 0s 2ms/step - loss: 0.0525 - accuracy: 0.9377\n",
            "Epoch 38/100\n",
            "84/84 [==============================] - 0s 1ms/step - loss: 0.0523 - accuracy: 0.9381\n",
            "Epoch 39/100\n",
            "84/84 [==============================] - 0s 1ms/step - loss: 0.0517 - accuracy: 0.9366\n",
            "Epoch 40/100\n",
            "84/84 [==============================] - 0s 2ms/step - loss: 0.0515 - accuracy: 0.9407\n",
            "Epoch 41/100\n",
            "84/84 [==============================] - 0s 1ms/step - loss: 0.0512 - accuracy: 0.9400\n",
            "Epoch 42/100\n",
            "84/84 [==============================] - 0s 1ms/step - loss: 0.0509 - accuracy: 0.9411\n",
            "Epoch 43/100\n",
            "84/84 [==============================] - 0s 1ms/step - loss: 0.0506 - accuracy: 0.9404\n",
            "Epoch 44/100\n",
            "84/84 [==============================] - 0s 1ms/step - loss: 0.0504 - accuracy: 0.9407\n",
            "Epoch 45/100\n",
            "84/84 [==============================] - 0s 1ms/step - loss: 0.0505 - accuracy: 0.9415\n",
            "Epoch 46/100\n",
            "84/84 [==============================] - 0s 1ms/step - loss: 0.0502 - accuracy: 0.9407\n",
            "Epoch 47/100\n",
            "84/84 [==============================] - 0s 1ms/step - loss: 0.0499 - accuracy: 0.9426\n",
            "Epoch 48/100\n",
            "84/84 [==============================] - 0s 1ms/step - loss: 0.0499 - accuracy: 0.9400\n",
            "Epoch 49/100\n",
            "84/84 [==============================] - 0s 1ms/step - loss: 0.0497 - accuracy: 0.9422\n",
            "Epoch 50/100\n",
            "84/84 [==============================] - 0s 1ms/step - loss: 0.0495 - accuracy: 0.9415\n",
            "Epoch 51/100\n",
            "84/84 [==============================] - 0s 2ms/step - loss: 0.0494 - accuracy: 0.9407\n",
            "Epoch 52/100\n",
            "84/84 [==============================] - 0s 1ms/step - loss: 0.0492 - accuracy: 0.9422\n",
            "Epoch 53/100\n",
            "84/84 [==============================] - 0s 1ms/step - loss: 0.0491 - accuracy: 0.9430\n",
            "Epoch 54/100\n",
            "84/84 [==============================] - 0s 1ms/step - loss: 0.0490 - accuracy: 0.9434\n",
            "Epoch 55/100\n",
            "84/84 [==============================] - 0s 1ms/step - loss: 0.0487 - accuracy: 0.9426\n",
            "Epoch 56/100\n",
            "84/84 [==============================] - 0s 1ms/step - loss: 0.0485 - accuracy: 0.9456\n",
            "Epoch 57/100\n",
            "84/84 [==============================] - 0s 1ms/step - loss: 0.0483 - accuracy: 0.9430\n",
            "Epoch 58/100\n",
            "84/84 [==============================] - 0s 1ms/step - loss: 0.0482 - accuracy: 0.9452\n",
            "Epoch 59/100\n",
            "84/84 [==============================] - 0s 1ms/step - loss: 0.0481 - accuracy: 0.9441\n",
            "Epoch 60/100\n",
            "84/84 [==============================] - 0s 1ms/step - loss: 0.0479 - accuracy: 0.9434\n",
            "Epoch 61/100\n",
            "84/84 [==============================] - 0s 1ms/step - loss: 0.0480 - accuracy: 0.9445\n",
            "Epoch 62/100\n",
            "84/84 [==============================] - 0s 1ms/step - loss: 0.0479 - accuracy: 0.9422\n",
            "Epoch 63/100\n",
            "84/84 [==============================] - 0s 1ms/step - loss: 0.0476 - accuracy: 0.9430\n",
            "Epoch 64/100\n",
            "84/84 [==============================] - 0s 2ms/step - loss: 0.0476 - accuracy: 0.9441\n",
            "Epoch 65/100\n",
            "84/84 [==============================] - 0s 1ms/step - loss: 0.0475 - accuracy: 0.9419\n",
            "Epoch 66/100\n",
            "84/84 [==============================] - 0s 1ms/step - loss: 0.0474 - accuracy: 0.9449\n",
            "Epoch 67/100\n",
            "84/84 [==============================] - 0s 1ms/step - loss: 0.0472 - accuracy: 0.9430\n",
            "Epoch 68/100\n",
            "84/84 [==============================] - 0s 1ms/step - loss: 0.0472 - accuracy: 0.9434\n",
            "Epoch 69/100\n",
            "84/84 [==============================] - 0s 1ms/step - loss: 0.0471 - accuracy: 0.9437\n",
            "Epoch 70/100\n",
            "84/84 [==============================] - 0s 1ms/step - loss: 0.0470 - accuracy: 0.9460\n",
            "Epoch 71/100\n",
            "84/84 [==============================] - 0s 1ms/step - loss: 0.0470 - accuracy: 0.9449\n",
            "Epoch 72/100\n",
            "84/84 [==============================] - 0s 1ms/step - loss: 0.0468 - accuracy: 0.9452\n",
            "Epoch 73/100\n",
            "84/84 [==============================] - 0s 1ms/step - loss: 0.0468 - accuracy: 0.9445\n",
            "Epoch 74/100\n",
            "84/84 [==============================] - 0s 1ms/step - loss: 0.0466 - accuracy: 0.9467\n",
            "Epoch 75/100\n",
            "84/84 [==============================] - 0s 1ms/step - loss: 0.0466 - accuracy: 0.9464\n",
            "Epoch 76/100\n",
            "84/84 [==============================] - 0s 1ms/step - loss: 0.0466 - accuracy: 0.9456\n",
            "Epoch 77/100\n",
            "84/84 [==============================] - 0s 1ms/step - loss: 0.0463 - accuracy: 0.9456\n",
            "Epoch 78/100\n",
            "84/84 [==============================] - 0s 1ms/step - loss: 0.0463 - accuracy: 0.9471\n",
            "Epoch 79/100\n",
            "84/84 [==============================] - 0s 1ms/step - loss: 0.0462 - accuracy: 0.9479\n",
            "Epoch 80/100\n",
            "84/84 [==============================] - 0s 1ms/step - loss: 0.0466 - accuracy: 0.9445\n",
            "Epoch 81/100\n",
            "84/84 [==============================] - 0s 1ms/step - loss: 0.0462 - accuracy: 0.9471\n",
            "Epoch 82/100\n",
            "84/84 [==============================] - 0s 1ms/step - loss: 0.0461 - accuracy: 0.9449\n",
            "Epoch 83/100\n",
            "84/84 [==============================] - 0s 1ms/step - loss: 0.0458 - accuracy: 0.9479\n",
            "Epoch 84/100\n",
            "84/84 [==============================] - 0s 1ms/step - loss: 0.0459 - accuracy: 0.9464\n",
            "Epoch 85/100\n",
            "84/84 [==============================] - 0s 1ms/step - loss: 0.0458 - accuracy: 0.9479\n",
            "Epoch 86/100\n",
            "84/84 [==============================] - 0s 1ms/step - loss: 0.0455 - accuracy: 0.9467\n",
            "Epoch 87/100\n",
            "84/84 [==============================] - 0s 1ms/step - loss: 0.0453 - accuracy: 0.9464\n",
            "Epoch 88/100\n",
            "84/84 [==============================] - 0s 1ms/step - loss: 0.0454 - accuracy: 0.9482\n",
            "Epoch 89/100\n",
            "84/84 [==============================] - 0s 1ms/step - loss: 0.0455 - accuracy: 0.9490\n",
            "Epoch 90/100\n",
            "84/84 [==============================] - 0s 1ms/step - loss: 0.0455 - accuracy: 0.9475\n",
            "Epoch 91/100\n",
            "84/84 [==============================] - 0s 1ms/step - loss: 0.0451 - accuracy: 0.9475\n",
            "Epoch 92/100\n",
            "84/84 [==============================] - 0s 2ms/step - loss: 0.0451 - accuracy: 0.9467\n",
            "Epoch 93/100\n",
            "84/84 [==============================] - 0s 1ms/step - loss: 0.0453 - accuracy: 0.9486\n",
            "Epoch 94/100\n",
            "84/84 [==============================] - 0s 1ms/step - loss: 0.0452 - accuracy: 0.9471\n",
            "Epoch 95/100\n",
            "84/84 [==============================] - 0s 1ms/step - loss: 0.0450 - accuracy: 0.9471\n",
            "Epoch 96/100\n",
            "84/84 [==============================] - 0s 1ms/step - loss: 0.0448 - accuracy: 0.9490\n",
            "Epoch 97/100\n",
            "84/84 [==============================] - 0s 1ms/step - loss: 0.0448 - accuracy: 0.9490\n",
            "Epoch 98/100\n",
            "84/84 [==============================] - 0s 1ms/step - loss: 0.0449 - accuracy: 0.9490\n",
            "Epoch 99/100\n",
            "84/84 [==============================] - 0s 1ms/step - loss: 0.0447 - accuracy: 0.9497\n",
            "Epoch 100/100\n",
            "84/84 [==============================] - 0s 1ms/step - loss: 0.0448 - accuracy: 0.9490\n"
          ]
        },
        {
          "output_type": "execute_result",
          "data": {
            "text/plain": [
              "<keras.callbacks.History at 0x7fece2459290>"
            ]
          },
          "metadata": {},
          "execution_count": 95
        }
      ]
    },
    {
      "cell_type": "markdown",
      "metadata": {
        "id": "vcPE-Tsj0FOt"
      },
      "source": [
        "## **Predicting the results of the test set of ChurnTrain**"
      ]
    },
    {
      "cell_type": "code",
      "metadata": {
        "colab": {
          "base_uri": "https://localhost:8080/"
        },
        "id": "Q7AGNq06j9g4",
        "outputId": "da72f98a-b66d-4063-8b2c-8fa9de40b3b7"
      },
      "source": [
        "X_test"
      ],
      "execution_count": 96,
      "outputs": [
        {
          "output_type": "execute_result",
          "data": {
            "text/plain": [
              "array([[-0.58225906,  1.01435661, -0.58341413, ...,  0.21418988,\n",
              "        -0.33633574, -1.17967998],\n",
              "       [-0.58225906, -0.98584659,  1.71404831, ..., -0.60566687,\n",
              "        -0.08616319,  0.33819011],\n",
              "       [-0.58225906, -0.98584659,  1.71404831, ..., -0.19573849,\n",
              "         0.8091912 ,  1.09712515],\n",
              "       ...,\n",
              "       [-0.58225906,  1.01435661, -0.58341413, ..., -0.60566687,\n",
              "         0.55901865, -0.42074493],\n",
              "       [ 1.71744858, -0.98584659, -0.58341413, ..., -1.42552363,\n",
              "        -0.83668084, -0.42074493],\n",
              "       [ 1.71744858, -0.98584659, -0.58341413, ..., -0.19573849,\n",
              "        -0.29683481,  1.09712515]])"
            ]
          },
          "metadata": {},
          "execution_count": 96
        }
      ]
    },
    {
      "cell_type": "code",
      "metadata": {
        "colab": {
          "base_uri": "https://localhost:8080/"
        },
        "id": "if9buChHzpB1",
        "outputId": "a09a0d7a-458b-4f75-b4b0-4399d26b816a"
      },
      "source": [
        "y_pred = ann.predict(X_test)\n",
        "y_pred = (y_pred > 0.5)\n",
        "print(np.concatenate((y_pred.reshape(len(y_pred),1), y_test.reshape(len(y_test),1)),1))"
      ],
      "execution_count": 97,
      "outputs": [
        {
          "output_type": "stream",
          "name": "stdout",
          "text": [
            "[[1 0]\n",
            " [0 0]\n",
            " [0 0]\n",
            " ...\n",
            " [0 0]\n",
            " [0 1]\n",
            " [0 0]]\n"
          ]
        }
      ]
    },
    {
      "cell_type": "code",
      "metadata": {
        "colab": {
          "base_uri": "https://localhost:8080/"
        },
        "id": "AeA3p6nXz5Ks",
        "outputId": "3b1d9fb2-3dc9-47a9-b78d-6651bb80a548"
      },
      "source": [
        "from sklearn.metrics import confusion_matrix, accuracy_score\n",
        "cm = confusion_matrix(y_test, y_pred)\n",
        "print(cm)\n",
        "accuracy_score(y_test, y_pred)"
      ],
      "execution_count": 98,
      "outputs": [
        {
          "output_type": "stream",
          "name": "stdout",
          "text": [
            "[[562  17]\n",
            " [ 31  57]]\n"
          ]
        },
        {
          "output_type": "execute_result",
          "data": {
            "text/plain": [
              "0.9280359820089955"
            ]
          },
          "metadata": {},
          "execution_count": 98
        }
      ]
    },
    {
      "cell_type": "markdown",
      "metadata": {
        "id": "NlBDTFtY0SGp"
      },
      "source": [
        "## **Working on ChrunTest Dataset**"
      ]
    },
    {
      "cell_type": "code",
      "metadata": {
        "id": "zueWZvW50jbO"
      },
      "source": [
        "dataset = pd.read_csv('churnTest.csv')\n",
        "dataset=dataset.drop(columns='Phone_No')\n",
        "#X = dataset.iloc[:,2:].values\n"
      ],
      "execution_count": 99,
      "outputs": []
    },
    {
      "cell_type": "markdown",
      "metadata": {
        "id": "19278n8O19dj"
      },
      "source": [
        "# Working with Nan values in the dataset"
      ]
    },
    {
      "cell_type": "code",
      "metadata": {
        "colab": {
          "base_uri": "https://localhost:8080/"
        },
        "id": "uHj_aLsP1ggm",
        "outputId": "11064c54-ef05-4691-acb0-e240e0c85cbb"
      },
      "source": [
        "dataset.isna().sum()"
      ],
      "execution_count": 100,
      "outputs": [
        {
          "output_type": "execute_result",
          "data": {
            "text/plain": [
              "State                   0\n",
              "Account_Length          1\n",
              "Area_Code               1\n",
              "International_Plan      5\n",
              "Voice_Mail_Plan         4\n",
              "No_Vmail_Messages       0\n",
              "Total_Day_minutes       7\n",
              "Total_Day_Calls         4\n",
              "Total_Day_charge       11\n",
              "Total_Eve_Minutes      11\n",
              "Total_Eve_Calls         4\n",
              "Total_Eve_Charge        5\n",
              "Total_Night_Minutes    11\n",
              "Total_Night_Calls       6\n",
              "Total_Night_Charge      4\n",
              "Total_Intl_Minutes      3\n",
              "Total_Intl_Calls        5\n",
              "Total_Intl_Charge       0\n",
              "No_CS_Calls             0\n",
              "dtype: int64"
            ]
          },
          "metadata": {},
          "execution_count": 100
        }
      ]
    },
    {
      "cell_type": "markdown",
      "metadata": {
        "id": "3umi17dIJ5uL"
      },
      "source": [
        "## Dropping the row with Area code NaN"
      ]
    },
    {
      "cell_type": "code",
      "metadata": {
        "id": "dU2Zqms6BavU"
      },
      "source": [
        "dataset.dropna(subset = [\"Area_Code\"], inplace=True)"
      ],
      "execution_count": 101,
      "outputs": []
    },
    {
      "cell_type": "markdown",
      "metadata": {
        "id": "uo707Ze9KAOC"
      },
      "source": [
        "## Filling NaN values in 'Voice Mail Plan' and 'International Plan' with 'no'"
      ]
    },
    {
      "cell_type": "code",
      "metadata": {
        "id": "DVGuUNVllh_-"
      },
      "source": [
        "dataset['Voice_Mail_Plan'] = dataset['Voice_Mail_Plan'].fillna('no')\n",
        "dataset['International_Plan'] = dataset['International_Plan'].fillna('no')\n"
      ],
      "execution_count": 102,
      "outputs": []
    },
    {
      "cell_type": "code",
      "metadata": {
        "id": "rc0hb3NLdBDQ"
      },
      "source": [
        "dataset.reset_index(inplace=True)\n",
        "dataset.drop(labels='index',axis=1,inplace=True)"
      ],
      "execution_count": 103,
      "outputs": []
    },
    {
      "cell_type": "code",
      "metadata": {
        "id": "Ty0Jmc1CkmYy"
      },
      "source": [
        "X = dataset.iloc[:,2:].values"
      ],
      "execution_count": 104,
      "outputs": []
    },
    {
      "cell_type": "markdown",
      "metadata": {
        "id": "jktAvU3Aip8H"
      },
      "source": [
        "### **One Hot Encoding the Area Code column and Label Encoding the \"Internation Plan\" and \"Voice Mail\" Plan column**"
      ]
    },
    {
      "cell_type": "code",
      "metadata": {
        "id": "MmN0-eqg1D6v"
      },
      "source": [
        "from sklearn.compose import ColumnTransformer\n",
        "from sklearn.preprocessing import OneHotEncoder\n",
        "ct = ColumnTransformer(transformers=[('encoder', OneHotEncoder(), [0])], remainder='passthrough')\n",
        "X = np.array(ct.fit_transform(X))"
      ],
      "execution_count": 105,
      "outputs": []
    },
    {
      "cell_type": "code",
      "metadata": {
        "id": "W-dzGSVC1aG2"
      },
      "source": [
        "from sklearn.preprocessing import LabelEncoder\n",
        "le = LabelEncoder()\n",
        "X[:,3] = le.fit_transform(X[:,3])\n",
        "X[:,4] = le.fit_transform(X[:,4])"
      ],
      "execution_count": 106,
      "outputs": []
    },
    {
      "cell_type": "markdown",
      "metadata": {
        "id": "JaR2lerwp95D"
      },
      "source": [
        "# Feature Scaling"
      ]
    },
    {
      "cell_type": "code",
      "metadata": {
        "id": "3wc39SZLi51w"
      },
      "source": [
        "from sklearn.preprocessing import StandardScaler\n",
        "sc = StandardScaler()\n",
        "X = sc.fit_transform(X)"
      ],
      "execution_count": 107,
      "outputs": []
    },
    {
      "cell_type": "markdown",
      "metadata": {
        "id": "0em9mIsiqDZ1"
      },
      "source": [
        "# Predicting Churn Column of ChurnTest Dataset"
      ]
    },
    {
      "cell_type": "code",
      "metadata": {
        "id": "bj_6X3zsjX5A"
      },
      "source": [
        "y_pred = ann.predict(X)\n",
        "y_pred = (y_pred > 0.5)"
      ],
      "execution_count": 108,
      "outputs": []
    },
    {
      "cell_type": "code",
      "metadata": {
        "id": "2w3X-vJtkqv1"
      },
      "source": [
        "y_pred\n",
        "\n",
        "df = pd.DataFrame(data=y_pred, columns=['Churn'])"
      ],
      "execution_count": 109,
      "outputs": []
    },
    {
      "cell_type": "code",
      "metadata": {
        "id": "_UdEYnZilccG"
      },
      "source": [
        "frames = [dataset, df]\n",
        "\n",
        "result = pd.concat(frames,axis=1)"
      ],
      "execution_count": 110,
      "outputs": []
    },
    {
      "cell_type": "code",
      "metadata": {
        "id": "gzoZ0El8c5m9",
        "outputId": "baede4c5-9d99-4507-83e3-3ff4130b0f12",
        "colab": {
          "base_uri": "https://localhost:8080/",
          "height": 443
        }
      },
      "source": [
        "result"
      ],
      "execution_count": 111,
      "outputs": [
        {
          "output_type": "execute_result",
          "data": {
            "text/html": [
              "<div>\n",
              "<style scoped>\n",
              "    .dataframe tbody tr th:only-of-type {\n",
              "        vertical-align: middle;\n",
              "    }\n",
              "\n",
              "    .dataframe tbody tr th {\n",
              "        vertical-align: top;\n",
              "    }\n",
              "\n",
              "    .dataframe thead th {\n",
              "        text-align: right;\n",
              "    }\n",
              "</style>\n",
              "<table border=\"1\" class=\"dataframe\">\n",
              "  <thead>\n",
              "    <tr style=\"text-align: right;\">\n",
              "      <th></th>\n",
              "      <th>State</th>\n",
              "      <th>Account_Length</th>\n",
              "      <th>Area_Code</th>\n",
              "      <th>International_Plan</th>\n",
              "      <th>Voice_Mail_Plan</th>\n",
              "      <th>No_Vmail_Messages</th>\n",
              "      <th>Total_Day_minutes</th>\n",
              "      <th>Total_Day_Calls</th>\n",
              "      <th>Total_Day_charge</th>\n",
              "      <th>Total_Eve_Minutes</th>\n",
              "      <th>Total_Eve_Calls</th>\n",
              "      <th>Total_Eve_Charge</th>\n",
              "      <th>Total_Night_Minutes</th>\n",
              "      <th>Total_Night_Calls</th>\n",
              "      <th>Total_Night_Charge</th>\n",
              "      <th>Total_Intl_Minutes</th>\n",
              "      <th>Total_Intl_Calls</th>\n",
              "      <th>Total_Intl_Charge</th>\n",
              "      <th>No_CS_Calls</th>\n",
              "      <th>Churn</th>\n",
              "    </tr>\n",
              "  </thead>\n",
              "  <tbody>\n",
              "    <tr>\n",
              "      <th>0</th>\n",
              "      <td>HI</td>\n",
              "      <td>101.0</td>\n",
              "      <td>510.0</td>\n",
              "      <td>no</td>\n",
              "      <td>no</td>\n",
              "      <td>0</td>\n",
              "      <td>70.9</td>\n",
              "      <td>123.0</td>\n",
              "      <td>12.05</td>\n",
              "      <td>211.9</td>\n",
              "      <td>73.0</td>\n",
              "      <td>18.01</td>\n",
              "      <td>236.0</td>\n",
              "      <td>73.0</td>\n",
              "      <td>10.62</td>\n",
              "      <td>10.6</td>\n",
              "      <td>3.0</td>\n",
              "      <td>2.86</td>\n",
              "      <td>3</td>\n",
              "      <td>True</td>\n",
              "    </tr>\n",
              "    <tr>\n",
              "      <th>1</th>\n",
              "      <td>MT</td>\n",
              "      <td>137.0</td>\n",
              "      <td>510.0</td>\n",
              "      <td>no</td>\n",
              "      <td>no</td>\n",
              "      <td>0</td>\n",
              "      <td>223.6</td>\n",
              "      <td>86.0</td>\n",
              "      <td>38.01</td>\n",
              "      <td>244.8</td>\n",
              "      <td>139.0</td>\n",
              "      <td>20.81</td>\n",
              "      <td>94.2</td>\n",
              "      <td>81.0</td>\n",
              "      <td>4.24</td>\n",
              "      <td>9.5</td>\n",
              "      <td>7.0</td>\n",
              "      <td>2.57</td>\n",
              "      <td>0</td>\n",
              "      <td>False</td>\n",
              "    </tr>\n",
              "    <tr>\n",
              "      <th>2</th>\n",
              "      <td>OH</td>\n",
              "      <td>103.0</td>\n",
              "      <td>408.0</td>\n",
              "      <td>no</td>\n",
              "      <td>yes</td>\n",
              "      <td>29</td>\n",
              "      <td>294.7</td>\n",
              "      <td>95.0</td>\n",
              "      <td>50.10</td>\n",
              "      <td>237.3</td>\n",
              "      <td>105.0</td>\n",
              "      <td>20.17</td>\n",
              "      <td>300.3</td>\n",
              "      <td>127.0</td>\n",
              "      <td>13.51</td>\n",
              "      <td>13.7</td>\n",
              "      <td>6.0</td>\n",
              "      <td>3.70</td>\n",
              "      <td>1</td>\n",
              "      <td>False</td>\n",
              "    </tr>\n",
              "    <tr>\n",
              "      <th>3</th>\n",
              "      <td>NM</td>\n",
              "      <td>99.0</td>\n",
              "      <td>415.0</td>\n",
              "      <td>no</td>\n",
              "      <td>no</td>\n",
              "      <td>0</td>\n",
              "      <td>216.8</td>\n",
              "      <td>123.0</td>\n",
              "      <td>36.86</td>\n",
              "      <td>126.4</td>\n",
              "      <td>88.0</td>\n",
              "      <td>10.74</td>\n",
              "      <td>220.6</td>\n",
              "      <td>82.0</td>\n",
              "      <td>9.93</td>\n",
              "      <td>15.7</td>\n",
              "      <td>2.0</td>\n",
              "      <td>4.24</td>\n",
              "      <td>1</td>\n",
              "      <td>False</td>\n",
              "    </tr>\n",
              "    <tr>\n",
              "      <th>4</th>\n",
              "      <td>SC</td>\n",
              "      <td>108.0</td>\n",
              "      <td>415.0</td>\n",
              "      <td>no</td>\n",
              "      <td>no</td>\n",
              "      <td>0</td>\n",
              "      <td>197.4</td>\n",
              "      <td>78.0</td>\n",
              "      <td>33.56</td>\n",
              "      <td>124.0</td>\n",
              "      <td>101.0</td>\n",
              "      <td>10.54</td>\n",
              "      <td>204.5</td>\n",
              "      <td>107.0</td>\n",
              "      <td>9.20</td>\n",
              "      <td>7.7</td>\n",
              "      <td>4.0</td>\n",
              "      <td>2.08</td>\n",
              "      <td>2</td>\n",
              "      <td>False</td>\n",
              "    </tr>\n",
              "    <tr>\n",
              "      <th>...</th>\n",
              "      <td>...</td>\n",
              "      <td>...</td>\n",
              "      <td>...</td>\n",
              "      <td>...</td>\n",
              "      <td>...</td>\n",
              "      <td>...</td>\n",
              "      <td>...</td>\n",
              "      <td>...</td>\n",
              "      <td>...</td>\n",
              "      <td>...</td>\n",
              "      <td>...</td>\n",
              "      <td>...</td>\n",
              "      <td>...</td>\n",
              "      <td>...</td>\n",
              "      <td>...</td>\n",
              "      <td>...</td>\n",
              "      <td>...</td>\n",
              "      <td>...</td>\n",
              "      <td>...</td>\n",
              "      <td>...</td>\n",
              "    </tr>\n",
              "    <tr>\n",
              "      <th>419</th>\n",
              "      <td>UT</td>\n",
              "      <td>169.0</td>\n",
              "      <td>408.0</td>\n",
              "      <td>no</td>\n",
              "      <td>no</td>\n",
              "      <td>0</td>\n",
              "      <td>157.8</td>\n",
              "      <td>96.0</td>\n",
              "      <td>26.83</td>\n",
              "      <td>160.0</td>\n",
              "      <td>120.0</td>\n",
              "      <td>13.60</td>\n",
              "      <td>198.8</td>\n",
              "      <td>112.0</td>\n",
              "      <td>8.95</td>\n",
              "      <td>13.7</td>\n",
              "      <td>6.0</td>\n",
              "      <td>3.70</td>\n",
              "      <td>3</td>\n",
              "      <td>False</td>\n",
              "    </tr>\n",
              "    <tr>\n",
              "      <th>420</th>\n",
              "      <td>DE</td>\n",
              "      <td>102.0</td>\n",
              "      <td>408.0</td>\n",
              "      <td>no</td>\n",
              "      <td>no</td>\n",
              "      <td>0</td>\n",
              "      <td>245.4</td>\n",
              "      <td>NaN</td>\n",
              "      <td>41.72</td>\n",
              "      <td>260.3</td>\n",
              "      <td>124.0</td>\n",
              "      <td>22.13</td>\n",
              "      <td>195.1</td>\n",
              "      <td>82.0</td>\n",
              "      <td>8.78</td>\n",
              "      <td>10.5</td>\n",
              "      <td>3.0</td>\n",
              "      <td>2.84</td>\n",
              "      <td>3</td>\n",
              "      <td>False</td>\n",
              "    </tr>\n",
              "    <tr>\n",
              "      <th>421</th>\n",
              "      <td>CT</td>\n",
              "      <td>174.0</td>\n",
              "      <td>415.0</td>\n",
              "      <td>no</td>\n",
              "      <td>no</td>\n",
              "      <td>0</td>\n",
              "      <td>72.2</td>\n",
              "      <td>80.0</td>\n",
              "      <td>12.27</td>\n",
              "      <td>NaN</td>\n",
              "      <td>NaN</td>\n",
              "      <td>14.74</td>\n",
              "      <td>130.1</td>\n",
              "      <td>121.0</td>\n",
              "      <td>5.85</td>\n",
              "      <td>11.0</td>\n",
              "      <td>5.0</td>\n",
              "      <td>2.97</td>\n",
              "      <td>2</td>\n",
              "      <td>False</td>\n",
              "    </tr>\n",
              "    <tr>\n",
              "      <th>422</th>\n",
              "      <td>TN</td>\n",
              "      <td>53.0</td>\n",
              "      <td>510.0</td>\n",
              "      <td>no</td>\n",
              "      <td>no</td>\n",
              "      <td>0</td>\n",
              "      <td>100.2</td>\n",
              "      <td>85.0</td>\n",
              "      <td>17.03</td>\n",
              "      <td>213.8</td>\n",
              "      <td>90.0</td>\n",
              "      <td>18.17</td>\n",
              "      <td>299.8</td>\n",
              "      <td>67.0</td>\n",
              "      <td>13.49</td>\n",
              "      <td>7.7</td>\n",
              "      <td>4.0</td>\n",
              "      <td>2.08</td>\n",
              "      <td>3</td>\n",
              "      <td>False</td>\n",
              "    </tr>\n",
              "    <tr>\n",
              "      <th>423</th>\n",
              "      <td>NH</td>\n",
              "      <td>44.0</td>\n",
              "      <td>510.0</td>\n",
              "      <td>no</td>\n",
              "      <td>yes</td>\n",
              "      <td>25</td>\n",
              "      <td>152.9</td>\n",
              "      <td>106.0</td>\n",
              "      <td>25.99</td>\n",
              "      <td>205.5</td>\n",
              "      <td>147.0</td>\n",
              "      <td>17.47</td>\n",
              "      <td>247.3</td>\n",
              "      <td>107.0</td>\n",
              "      <td>11.13</td>\n",
              "      <td>8.0</td>\n",
              "      <td>5.0</td>\n",
              "      <td>2.16</td>\n",
              "      <td>1</td>\n",
              "      <td>False</td>\n",
              "    </tr>\n",
              "  </tbody>\n",
              "</table>\n",
              "<p>424 rows × 20 columns</p>\n",
              "</div>"
            ],
            "text/plain": [
              "    State  Account_Length  Area_Code  ... Total_Intl_Charge No_CS_Calls  Churn\n",
              "0      HI           101.0      510.0  ...              2.86           3   True\n",
              "1      MT           137.0      510.0  ...              2.57           0  False\n",
              "2      OH           103.0      408.0  ...              3.70           1  False\n",
              "3      NM            99.0      415.0  ...              4.24           1  False\n",
              "4      SC           108.0      415.0  ...              2.08           2  False\n",
              "..    ...             ...        ...  ...               ...         ...    ...\n",
              "419    UT           169.0      408.0  ...              3.70           3  False\n",
              "420    DE           102.0      408.0  ...              2.84           3  False\n",
              "421    CT           174.0      415.0  ...              2.97           2  False\n",
              "422    TN            53.0      510.0  ...              2.08           3  False\n",
              "423    NH            44.0      510.0  ...              2.16           1  False\n",
              "\n",
              "[424 rows x 20 columns]"
            ]
          },
          "metadata": {},
          "execution_count": 111
        }
      ]
    },
    {
      "cell_type": "code",
      "metadata": {
        "id": "iPW8c1lylpU8"
      },
      "source": [
        "result.to_csv('Result.csv')"
      ],
      "execution_count": 112,
      "outputs": []
    }
  ]
}